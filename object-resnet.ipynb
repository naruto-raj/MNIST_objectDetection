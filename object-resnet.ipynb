{
 "cells": [
  {
   "cell_type": "code",
   "execution_count": 1,
   "id": "042fd767-507c-41b3-b6e4-59bc9a7cbddb",
   "metadata": {
    "scrolled": true
   },
   "outputs": [
    {
     "name": "stdout",
     "output_type": "stream",
     "text": [
      "Collecting lightning\n",
      "  Using cached lightning-2.2.5-py3-none-any.whl.metadata (53 kB)\n",
      "Requirement already satisfied: PyYAML<8.0,>=5.4 in /opt/conda/lib/python3.10/site-packages (from lightning) (6.0.1)\n",
      "Requirement already satisfied: fsspec<2025.0,>=2022.5.0 in /opt/conda/lib/python3.10/site-packages (from fsspec[http]<2025.0,>=2022.5.0->lightning) (2023.10.0)\n",
      "Collecting lightning-utilities<2.0,>=0.8.0 (from lightning)\n",
      "  Using cached lightning_utilities-0.11.2-py3-none-any.whl.metadata (4.7 kB)\n",
      "Requirement already satisfied: numpy<3.0,>=1.17.2 in /opt/conda/lib/python3.10/site-packages (from lightning) (1.24.4)\n",
      "Requirement already satisfied: packaging<25.0,>=20.0 in /opt/conda/lib/python3.10/site-packages (from lightning) (23.2)\n",
      "Requirement already satisfied: torch<4.0,>=1.13.0 in /opt/conda/lib/python3.10/site-packages (from lightning) (2.2.0+cu118)\n",
      "Collecting torchmetrics<3.0,>=0.7.0 (from lightning)\n",
      "  Using cached torchmetrics-1.4.0.post0-py3-none-any.whl.metadata (19 kB)\n",
      "Requirement already satisfied: tqdm<6.0,>=4.57.0 in /opt/conda/lib/python3.10/site-packages (from lightning) (4.66.1)\n",
      "Requirement already satisfied: typing-extensions<6.0,>=4.4.0 in /opt/conda/lib/python3.10/site-packages (from lightning) (4.8.0)\n",
      "Collecting pytorch-lightning (from lightning)\n",
      "  Using cached pytorch_lightning-2.2.5-py3-none-any.whl.metadata (21 kB)\n",
      "Requirement already satisfied: requests in /opt/conda/lib/python3.10/site-packages (from fsspec[http]<2025.0,>=2022.5.0->lightning) (2.31.0)\n",
      "Collecting aiohttp!=4.0.0a0,!=4.0.0a1 (from fsspec[http]<2025.0,>=2022.5.0->lightning)\n",
      "  Using cached aiohttp-3.9.5-cp310-cp310-manylinux_2_17_x86_64.manylinux2014_x86_64.whl.metadata (7.5 kB)\n",
      "Requirement already satisfied: setuptools in /opt/conda/lib/python3.10/site-packages (from lightning-utilities<2.0,>=0.8.0->lightning) (68.2.2)\n",
      "Requirement already satisfied: filelock in /opt/conda/lib/python3.10/site-packages (from torch<4.0,>=1.13.0->lightning) (3.9.0)\n",
      "Requirement already satisfied: sympy in /opt/conda/lib/python3.10/site-packages (from torch<4.0,>=1.13.0->lightning) (1.12)\n",
      "Requirement already satisfied: networkx in /opt/conda/lib/python3.10/site-packages (from torch<4.0,>=1.13.0->lightning) (3.2.1)\n",
      "Requirement already satisfied: jinja2 in /opt/conda/lib/python3.10/site-packages (from torch<4.0,>=1.13.0->lightning) (3.1.2)\n",
      "Requirement already satisfied: nvidia-cuda-nvrtc-cu11==11.8.89 in /opt/conda/lib/python3.10/site-packages (from torch<4.0,>=1.13.0->lightning) (11.8.89)\n",
      "Requirement already satisfied: nvidia-cuda-runtime-cu11==11.8.89 in /opt/conda/lib/python3.10/site-packages (from torch<4.0,>=1.13.0->lightning) (11.8.89)\n",
      "Requirement already satisfied: nvidia-cuda-cupti-cu11==11.8.87 in /opt/conda/lib/python3.10/site-packages (from torch<4.0,>=1.13.0->lightning) (11.8.87)\n",
      "Requirement already satisfied: nvidia-cudnn-cu11==8.7.0.84 in /opt/conda/lib/python3.10/site-packages (from torch<4.0,>=1.13.0->lightning) (8.7.0.84)\n",
      "Requirement already satisfied: nvidia-cublas-cu11==11.11.3.6 in /opt/conda/lib/python3.10/site-packages (from torch<4.0,>=1.13.0->lightning) (11.11.3.6)\n",
      "Requirement already satisfied: nvidia-cufft-cu11==10.9.0.58 in /opt/conda/lib/python3.10/site-packages (from torch<4.0,>=1.13.0->lightning) (10.9.0.58)\n",
      "Requirement already satisfied: nvidia-curand-cu11==10.3.0.86 in /opt/conda/lib/python3.10/site-packages (from torch<4.0,>=1.13.0->lightning) (10.3.0.86)\n",
      "Requirement already satisfied: nvidia-cusolver-cu11==11.4.1.48 in /opt/conda/lib/python3.10/site-packages (from torch<4.0,>=1.13.0->lightning) (11.4.1.48)\n",
      "Requirement already satisfied: nvidia-cusparse-cu11==11.7.5.86 in /opt/conda/lib/python3.10/site-packages (from torch<4.0,>=1.13.0->lightning) (11.7.5.86)\n",
      "Requirement already satisfied: nvidia-nccl-cu11==2.19.3 in /opt/conda/lib/python3.10/site-packages (from torch<4.0,>=1.13.0->lightning) (2.19.3)\n",
      "Requirement already satisfied: nvidia-nvtx-cu11==11.8.86 in /opt/conda/lib/python3.10/site-packages (from torch<4.0,>=1.13.0->lightning) (11.8.86)\n",
      "Requirement already satisfied: triton==2.2.0 in /opt/conda/lib/python3.10/site-packages (from torch<4.0,>=1.13.0->lightning) (2.2.0)\n",
      "Collecting aiosignal>=1.1.2 (from aiohttp!=4.0.0a0,!=4.0.0a1->fsspec[http]<2025.0,>=2022.5.0->lightning)\n",
      "  Using cached aiosignal-1.3.1-py3-none-any.whl.metadata (4.0 kB)\n",
      "Requirement already satisfied: attrs>=17.3.0 in /opt/conda/lib/python3.10/site-packages (from aiohttp!=4.0.0a0,!=4.0.0a1->fsspec[http]<2025.0,>=2022.5.0->lightning) (23.1.0)\n",
      "Collecting frozenlist>=1.1.1 (from aiohttp!=4.0.0a0,!=4.0.0a1->fsspec[http]<2025.0,>=2022.5.0->lightning)\n",
      "  Using cached frozenlist-1.4.1-cp310-cp310-manylinux_2_5_x86_64.manylinux1_x86_64.manylinux_2_17_x86_64.manylinux2014_x86_64.whl.metadata (12 kB)\n",
      "Collecting multidict<7.0,>=4.5 (from aiohttp!=4.0.0a0,!=4.0.0a1->fsspec[http]<2025.0,>=2022.5.0->lightning)\n",
      "  Using cached multidict-6.0.5-cp310-cp310-manylinux_2_17_x86_64.manylinux2014_x86_64.whl.metadata (4.2 kB)\n",
      "Collecting yarl<2.0,>=1.0 (from aiohttp!=4.0.0a0,!=4.0.0a1->fsspec[http]<2025.0,>=2022.5.0->lightning)\n",
      "  Using cached yarl-1.9.4-cp310-cp310-manylinux_2_17_x86_64.manylinux2014_x86_64.whl.metadata (31 kB)\n",
      "Collecting async-timeout<5.0,>=4.0 (from aiohttp!=4.0.0a0,!=4.0.0a1->fsspec[http]<2025.0,>=2022.5.0->lightning)\n",
      "  Using cached async_timeout-4.0.3-py3-none-any.whl.metadata (4.2 kB)\n",
      "Requirement already satisfied: MarkupSafe>=2.0 in /opt/conda/lib/python3.10/site-packages (from jinja2->torch<4.0,>=1.13.0->lightning) (2.1.3)\n",
      "Requirement already satisfied: charset-normalizer<4,>=2 in /opt/conda/lib/python3.10/site-packages (from requests->fsspec[http]<2025.0,>=2022.5.0->lightning) (3.3.1)\n",
      "Requirement already satisfied: idna<4,>=2.5 in /opt/conda/lib/python3.10/site-packages (from requests->fsspec[http]<2025.0,>=2022.5.0->lightning) (3.4)\n",
      "Requirement already satisfied: urllib3<3,>=1.21.1 in /opt/conda/lib/python3.10/site-packages (from requests->fsspec[http]<2025.0,>=2022.5.0->lightning) (2.0.7)\n",
      "Requirement already satisfied: certifi>=2017.4.17 in /opt/conda/lib/python3.10/site-packages (from requests->fsspec[http]<2025.0,>=2022.5.0->lightning) (2023.7.22)\n",
      "Requirement already satisfied: mpmath>=0.19 in /opt/conda/lib/python3.10/site-packages (from sympy->torch<4.0,>=1.13.0->lightning) (1.3.0)\n",
      "Using cached lightning-2.2.5-py3-none-any.whl (2.0 MB)\n",
      "Using cached lightning_utilities-0.11.2-py3-none-any.whl (26 kB)\n",
      "Using cached torchmetrics-1.4.0.post0-py3-none-any.whl (868 kB)\n",
      "Using cached pytorch_lightning-2.2.5-py3-none-any.whl (802 kB)\n",
      "Using cached aiohttp-3.9.5-cp310-cp310-manylinux_2_17_x86_64.manylinux2014_x86_64.whl (1.2 MB)\n",
      "Using cached aiosignal-1.3.1-py3-none-any.whl (7.6 kB)\n",
      "Using cached async_timeout-4.0.3-py3-none-any.whl (5.7 kB)\n",
      "Using cached frozenlist-1.4.1-cp310-cp310-manylinux_2_5_x86_64.manylinux1_x86_64.manylinux_2_17_x86_64.manylinux2014_x86_64.whl (239 kB)\n",
      "Using cached multidict-6.0.5-cp310-cp310-manylinux_2_17_x86_64.manylinux2014_x86_64.whl (124 kB)\n",
      "Using cached yarl-1.9.4-cp310-cp310-manylinux_2_17_x86_64.manylinux2014_x86_64.whl (301 kB)\n",
      "Installing collected packages: multidict, lightning-utilities, frozenlist, async-timeout, yarl, aiosignal, torchmetrics, aiohttp, pytorch-lightning, lightning\n",
      "Successfully installed aiohttp-3.9.5 aiosignal-1.3.1 async-timeout-4.0.3 frozenlist-1.4.1 lightning-2.2.5 lightning-utilities-0.11.2 multidict-6.0.5 pytorch-lightning-2.2.5 torchmetrics-1.4.0.post0 yarl-1.9.4\n"
     ]
    }
   ],
   "source": [
    "!pip install lightning"
   ]
  },
  {
   "cell_type": "code",
   "execution_count": 2,
   "id": "18489197-da9c-4463-8c3f-4c8de4e1f190",
   "metadata": {},
   "outputs": [
    {
     "name": "stderr",
     "output_type": "stream",
     "text": [
      "2024-05-23 00:06:27.717117: I tensorflow/core/util/port.cc:113] oneDNN custom operations are on. You may see slightly different numerical results due to floating-point round-off errors from different computation orders. To turn them off, set the environment variable `TF_ENABLE_ONEDNN_OPTS=0`.\n",
      "2024-05-23 00:06:27.759014: E external/local_xla/xla/stream_executor/cuda/cuda_dnn.cc:9261] Unable to register cuDNN factory: Attempting to register factory for plugin cuDNN when one has already been registered\n",
      "2024-05-23 00:06:27.759054: E external/local_xla/xla/stream_executor/cuda/cuda_fft.cc:607] Unable to register cuFFT factory: Attempting to register factory for plugin cuFFT when one has already been registered\n",
      "2024-05-23 00:06:27.760219: E external/local_xla/xla/stream_executor/cuda/cuda_blas.cc:1515] Unable to register cuBLAS factory: Attempting to register factory for plugin cuBLAS when one has already been registered\n",
      "2024-05-23 00:06:27.767354: I tensorflow/core/platform/cpu_feature_guard.cc:182] This TensorFlow binary is optimized to use available CPU instructions in performance-critical operations.\n",
      "To enable the following instructions: AVX2 AVX512F AVX512_VNNI FMA, in other operations, rebuild TensorFlow with the appropriate compiler flags.\n",
      "2024-05-23 00:06:28.607402: W tensorflow/compiler/tf2tensorrt/utils/py_utils.cc:38] TF-TRT Warning: Could not find TensorRT\n"
     ]
    }
   ],
   "source": [
    "from Data_utils import *"
   ]
  },
  {
   "cell_type": "code",
   "execution_count": 3,
   "id": "bd61a151-6821-4a2f-a972-71da323fa93a",
   "metadata": {},
   "outputs": [],
   "source": [
    "from Resnet import get_resnet_model\n",
    "class DetectionModel(nn.Module):\n",
    "    def __init__(self, num_classes):\n",
    "        super(DetectionModel, self).__init__()\n",
    "        # Load a ResNet model but remove the fully connected layer\n",
    "        base_model = get_resnet_model('resnet34',in_channels=1)\n",
    "        \n",
    "        self.features = nn.Sequential(*list(base_model.children())[:-1])  # Remove the last layer\n",
    "        self.num_classes=num_classes\n",
    "\n",
    "        # Output layer for class predictions\n",
    "        self.classifier = nn.Linear(512, num_classes)  # 512 is the feature size of ResNet34 at the end\n",
    "\n",
    "        # Output layers for bounding box predictions\n",
    "        # 4 outputs per class: start_x, start_y, end_x, end_y\n",
    "        self.bbox_regressor = nn.Linear(512, 4)\n",
    "\n",
    "    def forward(self, x):\n",
    "        x = self.features(x)\n",
    "        x = torch.flatten(x, 1)  # Flatten the features out\n",
    "\n",
    "        # Class prediction\n",
    "        classes = self.classifier(x)\n",
    "\n",
    "        # Bounding box predictions\n",
    "        bboxes = self.bbox_regressor(x)\n",
    "        # Apply sigmoid to confine the outputs between 0 and 1\n",
    "        bboxes = torch.sigmoid(bboxes)\n",
    "        bboxes = bboxes.view(-1, 4)  # reshape to (batch_size, num_classes, 4)\n",
    "\n",
    "        return classes, bboxes\n"
   ]
  },
  {
   "cell_type": "code",
   "execution_count": 4,
   "id": "c409e133-0c29-4eae-8d67-25715e7c0aa9",
   "metadata": {},
   "outputs": [
    {
     "data": {
      "image/png": "[encoded data removed]",
      "text/plain": [
       "<Figure size 1500x600 with 10 Axes>"
      ]
     },
     "metadata": {},
     "output_type": "display_data"
    }
   ],
   "source": [
    "# Call the function to plot samples\n",
    "dataset = MNISTSyntheticDataset(train=True)\n",
    "plot_samples_with_labels_and_bbox(dataset)"
   ]
  },
  {
   "cell_type": "code",
   "execution_count": 5,
   "id": "8d600b50-c197-49ce-a2c7-449b5eaa6720",
   "metadata": {},
   "outputs": [],
   "source": [
    "# Train and Validation data loader\n",
    "train_dataloader = DataLoader(MNISTSyntheticDataset(train=False), \n",
    "                        batch_size=32,  # Consider batch size based on your GPU memory\n",
    "                        shuffle=True, \n",
    "                        num_workers=2)  # Increase this based on your system capabilities\n",
    "val_dataloader = DataLoader(MNISTSyntheticDataset(train=False), \n",
    "                        batch_size=32,  # Consider batch size based on your GPU memory\n",
    "                        shuffle=True, \n",
    "                        num_workers=2)  # Increase this based on your system capabilities\n",
    "\n"
   ]
  },
  {
   "cell_type": "code",
   "execution_count": 6,
   "id": "98968568-fcd1-4cc1-84ab-d795aaf5e393",
   "metadata": {},
   "outputs": [
    {
     "name": "stderr",
     "output_type": "stream",
     "text": [
      "Training Epoch 1/20:   0%|          | 0/313 [00:00<?, ?it/s]/opt/conda/lib/python3.10/site-packages/torch/nn/modules/conv.py:456: UserWarning: Applied workaround for CuDNN issue, install nvrtc.so (Triggered internally at ../aten/src/ATen/native/cudnn/Conv_v8.cpp:80.)\n",
      "  return F.conv2d(input, weight, bias, self.stride,\n",
      "                                                                         \r"
     ]
    },
    {
     "name": "stdout",
     "output_type": "stream",
     "text": [
      "Epoch [1/20] - Train classification Loss: 1.3901, Train iou Loss: 0.0155, Accuracy: 0.4868, IoU: 0.2642\n",
      "Epoch [1/20] - Val classification Loss: 1.8651, Val iou Loss: 0.0153, Accuracy: 0.4967, IoU: 0.3368\n"
     ]
    },
    {
     "name": "stderr",
     "output_type": "stream",
     "text": [
      "                                                                         \r"
     ]
    },
    {
     "name": "stdout",
     "output_type": "stream",
     "text": [
      "Epoch [2/20] - Train classification Loss: 0.5556, Train iou Loss: 0.0061, Accuracy: 0.8124, IoU: 0.4180\n",
      "Epoch [2/20] - Val classification Loss: 1.4785, Val iou Loss: 0.0040, Accuracy: 0.5608, IoU: 0.4638\n"
     ]
    },
    {
     "name": "stderr",
     "output_type": "stream",
     "text": [
      "                                                                         \r"
     ]
    },
    {
     "name": "stdout",
     "output_type": "stream",
     "text": [
      "Epoch [3/20] - Train classification Loss: 0.3898, Train iou Loss: 0.0042, Accuracy: 0.8720, IoU: 0.4665\n",
      "Epoch [3/20] - Val classification Loss: 0.5769, Val iou Loss: 0.0034, Accuracy: 0.8202, IoU: 0.4878\n"
     ]
    },
    {
     "name": "stderr",
     "output_type": "stream",
     "text": [
      "                                                                         \r"
     ]
    },
    {
     "name": "stdout",
     "output_type": "stream",
     "text": [
      "Epoch [4/20] - Train classification Loss: 0.2832, Train iou Loss: 0.0034, Accuracy: 0.9123, IoU: 0.4922\n",
      "Epoch [4/20] - Val classification Loss: 0.8079, Val iou Loss: 0.0032, Accuracy: 0.7326, IoU: 0.4664\n"
     ]
    },
    {
     "name": "stderr",
     "output_type": "stream",
     "text": [
      "                                                                         \r"
     ]
    },
    {
     "name": "stdout",
     "output_type": "stream",
     "text": [
      "Epoch [5/20] - Train classification Loss: 0.2201, Train iou Loss: 0.0027, Accuracy: 0.9314, IoU: 0.5225\n",
      "Epoch [5/20] - Val classification Loss: 0.2207, Val iou Loss: 0.0022, Accuracy: 0.9292, IoU: 0.5459\n"
     ]
    },
    {
     "name": "stderr",
     "output_type": "stream",
     "text": [
      "                                                                         \r"
     ]
    },
    {
     "name": "stdout",
     "output_type": "stream",
     "text": [
      "Epoch [6/20] - Train classification Loss: 0.1821, Train iou Loss: 0.0025, Accuracy: 0.9445, IoU: 0.5270\n",
      "Epoch [6/20] - Val classification Loss: 0.3279, Val iou Loss: 0.0020, Accuracy: 0.8967, IoU: 0.5656\n"
     ]
    },
    {
     "name": "stderr",
     "output_type": "stream",
     "text": [
      "                                                                         \r"
     ]
    },
    {
     "name": "stdout",
     "output_type": "stream",
     "text": [
      "Epoch [7/20] - Train classification Loss: 0.1742, Train iou Loss: 0.0024, Accuracy: 0.9464, IoU: 0.5373\n",
      "Epoch [7/20] - Val classification Loss: 0.1610, Val iou Loss: 0.0015, Accuracy: 0.9514, IoU: 0.5873\n"
     ]
    },
    {
     "name": "stderr",
     "output_type": "stream",
     "text": [
      "                                                                        \r"
     ]
    },
    {
     "name": "stdout",
     "output_type": "stream",
     "text": [
      "Epoch [8/20] - Train classification Loss: 0.1551, Train iou Loss: 0.0021, Accuracy: 0.9493, IoU: 0.5404\n",
      "Epoch [8/20] - Val classification Loss: 0.2321, Val iou Loss: 0.0020, Accuracy: 0.9333, IoU: 0.5310\n"
     ]
    },
    {
     "name": "stderr",
     "output_type": "stream",
     "text": [
      "                                                                         \r"
     ]
    },
    {
     "name": "stdout",
     "output_type": "stream",
     "text": [
      "Epoch [9/20] - Train classification Loss: 0.1452, Train iou Loss: 0.0020, Accuracy: 0.9540, IoU: 0.5493\n",
      "Epoch [9/20] - Val classification Loss: 0.0755, Val iou Loss: 0.0013, Accuracy: 0.9757, IoU: 0.5922\n"
     ]
    },
    {
     "name": "stderr",
     "output_type": "stream",
     "text": [
      "                                                                          \r"
     ]
    },
    {
     "name": "stdout",
     "output_type": "stream",
     "text": [
      "Epoch [10/20] - Train classification Loss: 0.1133, Train iou Loss: 0.0019, Accuracy: 0.9671, IoU: 0.5613\n",
      "Epoch [10/20] - Val classification Loss: 0.4366, Val iou Loss: 0.0015, Accuracy: 0.8667, IoU: 0.5915\n"
     ]
    },
    {
     "name": "stderr",
     "output_type": "stream",
     "text": [
      "                                                                         \r"
     ]
    },
    {
     "name": "stdout",
     "output_type": "stream",
     "text": [
      "Epoch [11/20] - Train classification Loss: 0.1196, Train iou Loss: 0.0018, Accuracy: 0.9628, IoU: 0.5632\n",
      "Epoch [11/20] - Val classification Loss: 0.1649, Val iou Loss: 0.0015, Accuracy: 0.9464, IoU: 0.5875\n"
     ]
    },
    {
     "name": "stderr",
     "output_type": "stream",
     "text": [
      "                                                                          \r"
     ]
    },
    {
     "name": "stdout",
     "output_type": "stream",
     "text": [
      "Epoch [12/20] - Train classification Loss: 0.1155, Train iou Loss: 0.0017, Accuracy: 0.9640, IoU: 0.5803\n",
      "Epoch [12/20] - Val classification Loss: 0.1442, Val iou Loss: 0.0018, Accuracy: 0.9546, IoU: 0.5454\n"
     ]
    },
    {
     "name": "stderr",
     "output_type": "stream",
     "text": [
      "                                                                          \r"
     ]
    },
    {
     "name": "stdout",
     "output_type": "stream",
     "text": [
      "Epoch [13/20] - Train classification Loss: 0.0937, Train iou Loss: 0.0016, Accuracy: 0.9710, IoU: 0.5781\n",
      "Epoch [13/20] - Val classification Loss: 0.0806, Val iou Loss: 0.0010, Accuracy: 0.9734, IoU: 0.6427\n"
     ]
    },
    {
     "name": "stderr",
     "output_type": "stream",
     "text": [
      "                                                                          \r"
     ]
    },
    {
     "name": "stdout",
     "output_type": "stream",
     "text": [
      "Epoch [14/20] - Train classification Loss: 0.0933, Train iou Loss: 0.0016, Accuracy: 0.9717, IoU: 0.5807\n",
      "Epoch [14/20] - Val classification Loss: 0.1001, Val iou Loss: 0.0012, Accuracy: 0.9697, IoU: 0.6105\n"
     ]
    },
    {
     "name": "stderr",
     "output_type": "stream",
     "text": [
      "                                                                          \r"
     ]
    },
    {
     "name": "stdout",
     "output_type": "stream",
     "text": [
      "Epoch [15/20] - Train classification Loss: 0.1028, Train iou Loss: 0.0016, Accuracy: 0.9666, IoU: 0.5818\n",
      "Epoch [15/20] - Val classification Loss: 0.0720, Val iou Loss: 0.0010, Accuracy: 0.9758, IoU: 0.6458\n"
     ]
    },
    {
     "name": "stderr",
     "output_type": "stream",
     "text": [
      "                                                                         \r"
     ]
    },
    {
     "name": "stdout",
     "output_type": "stream",
     "text": [
      "Epoch [16/20] - Train classification Loss: 0.0864, Train iou Loss: 0.0015, Accuracy: 0.9740, IoU: 0.5842\n",
      "Epoch [16/20] - Val classification Loss: 0.1125, Val iou Loss: 0.0010, Accuracy: 0.9654, IoU: 0.6432\n"
     ]
    },
    {
     "name": "stderr",
     "output_type": "stream",
     "text": [
      "                                                                         \r"
     ]
    },
    {
     "name": "stdout",
     "output_type": "stream",
     "text": [
      "Epoch [17/20] - Train classification Loss: 0.0882, Train iou Loss: 0.0015, Accuracy: 0.9724, IoU: 0.5874\n",
      "Epoch [17/20] - Val classification Loss: 0.1210, Val iou Loss: 0.0010, Accuracy: 0.9637, IoU: 0.6418\n"
     ]
    },
    {
     "name": "stderr",
     "output_type": "stream",
     "text": [
      "                                                                          \r"
     ]
    },
    {
     "name": "stdout",
     "output_type": "stream",
     "text": [
      "Epoch [18/20] - Train classification Loss: 0.0805, Train iou Loss: 0.0014, Accuracy: 0.9725, IoU: 0.5964\n",
      "Epoch [18/20] - Val classification Loss: 0.0880, Val iou Loss: 0.0014, Accuracy: 0.9725, IoU: 0.5798\n"
     ]
    },
    {
     "name": "stderr",
     "output_type": "stream",
     "text": [
      "                                                                          \r"
     ]
    },
    {
     "name": "stdout",
     "output_type": "stream",
     "text": [
      "Epoch [19/20] - Train classification Loss: 0.0749, Train iou Loss: 0.0015, Accuracy: 0.9753, IoU: 0.5926\n",
      "Epoch [19/20] - Val classification Loss: 0.0601, Val iou Loss: 0.0010, Accuracy: 0.9805, IoU: 0.6523\n"
     ]
    },
    {
     "name": "stderr",
     "output_type": "stream",
     "text": [
      "                                                                          \r"
     ]
    },
    {
     "name": "stdout",
     "output_type": "stream",
     "text": [
      "Epoch [20/20] - Train classification Loss: 0.0872, Train iou Loss: 0.0014, Accuracy: 0.9747, IoU: 0.6033\n",
      "Epoch [20/20] - Val classification Loss: 0.0585, Val iou Loss: 0.0011, Accuracy: 0.9815, IoU: 0.6282\n"
     ]
    }
   ],
   "source": [
    "# CE + SmoothL1Loss\n",
    "model = DetectionModel(num_classes=10).to('cuda')\n",
    "loss_function = DetectionLoss(num_classes=10)\n",
    "optimizer = torch.optim.Adam(model.parameters(), lr=0.001)\n",
    "# Assuming the train_loader and val_loader are properly defined\n",
    "train_and_validate(model, train_dataloader, val_dataloader, optimizer, loss_function, epochs=20, visualize_after_train=True, log_dir='detection_logs_Resnet/resnet34_CE_Smoothl1')\n",
    "                   "
   ]
  },
  {
   "cell_type": "code",
   "execution_count": 7,
   "id": "f3a5b697-9ac3-4d4f-a4a7-aa65c610858a",
   "metadata": {},
   "outputs": [
    {
     "name": "stderr",
     "output_type": "stream",
     "text": [
      "                                                                         \r"
     ]
    },
    {
     "name": "stdout",
     "output_type": "stream",
     "text": [
      "Epoch [1/20] - Train classification Loss: 1.3665, Train iou Loss: 0.5543, Accuracy: 0.4935, IoU: 0.4401\n",
      "Epoch [1/20] - Val classification Loss: 1.6386, Val iou Loss: 0.5079, Accuracy: 0.4677, IoU: 0.4366\n"
     ]
    },
    {
     "name": "stderr",
     "output_type": "stream",
     "text": [
      "                                                                         \r"
     ]
    },
    {
     "name": "stdout",
     "output_type": "stream",
     "text": [
      "Epoch [2/20] - Train classification Loss: 0.5060, Train iou Loss: 0.4401, Accuracy: 0.8315, IoU: 0.5564\n",
      "Epoch [2/20] - Val classification Loss: 0.6224, Val iou Loss: 0.5042, Accuracy: 0.8073, IoU: 0.4640\n"
     ]
    },
    {
     "name": "stderr",
     "output_type": "stream",
     "text": [
      "                                                                         \r"
     ]
    },
    {
     "name": "stdout",
     "output_type": "stream",
     "text": [
      "Epoch [3/20] - Train classification Loss: 0.3228, Train iou Loss: 0.4159, Accuracy: 0.8976, IoU: 0.5896\n",
      "Epoch [3/20] - Val classification Loss: 1.4614, Val iou Loss: 0.3583, Accuracy: 0.6295, IoU: 0.6442\n"
     ]
    },
    {
     "name": "stderr",
     "output_type": "stream",
     "text": [
      "                                                                         \r"
     ]
    },
    {
     "name": "stdout",
     "output_type": "stream",
     "text": [
      "Epoch [4/20] - Train classification Loss: 0.2459, Train iou Loss: 0.3930, Accuracy: 0.9208, IoU: 0.6039\n",
      "Epoch [4/20] - Val classification Loss: 1.2166, Val iou Loss: 0.4342, Accuracy: 0.6581, IoU: 0.6233\n"
     ]
    },
    {
     "name": "stderr",
     "output_type": "stream",
     "text": [
      "                                                                         \r"
     ]
    },
    {
     "name": "stdout",
     "output_type": "stream",
     "text": [
      "Epoch [5/20] - Train classification Loss: 0.1855, Train iou Loss: 0.3632, Accuracy: 0.9445, IoU: 0.6368\n",
      "Epoch [5/20] - Val classification Loss: 0.1857, Val iou Loss: 0.3729, Accuracy: 0.9411, IoU: 0.6656\n"
     ]
    },
    {
     "name": "stderr",
     "output_type": "stream",
     "text": [
      "                                                                         \r"
     ]
    },
    {
     "name": "stdout",
     "output_type": "stream",
     "text": [
      "Epoch [6/20] - Train classification Loss: 0.1670, Train iou Loss: 0.3450, Accuracy: 0.9442, IoU: 0.6581\n",
      "Epoch [6/20] - Val classification Loss: 0.1897, Val iou Loss: 0.3647, Accuracy: 0.9455, IoU: 0.6078\n"
     ]
    },
    {
     "name": "stderr",
     "output_type": "stream",
     "text": [
      "                                                                         \r"
     ]
    },
    {
     "name": "stdout",
     "output_type": "stream",
     "text": [
      "Epoch [7/20] - Train classification Loss: 0.1486, Train iou Loss: 0.3287, Accuracy: 0.9536, IoU: 0.6719\n",
      "Epoch [7/20] - Val classification Loss: 0.1946, Val iou Loss: 0.2853, Accuracy: 0.9366, IoU: 0.7314\n"
     ]
    },
    {
     "name": "stderr",
     "output_type": "stream",
     "text": [
      "                                                                         \r"
     ]
    },
    {
     "name": "stdout",
     "output_type": "stream",
     "text": [
      "Epoch [8/20] - Train classification Loss: 0.1416, Train iou Loss: 0.3027, Accuracy: 0.9560, IoU: 0.6992\n",
      "Epoch [8/20] - Val classification Loss: 0.0999, Val iou Loss: 0.2887, Accuracy: 0.9674, IoU: 0.6803\n"
     ]
    },
    {
     "name": "stderr",
     "output_type": "stream",
     "text": [
      "                                                                         \r"
     ]
    },
    {
     "name": "stdout",
     "output_type": "stream",
     "text": [
      "Epoch [9/20] - Train classification Loss: 0.1205, Train iou Loss: 0.3004, Accuracy: 0.9636, IoU: 0.7054\n",
      "Epoch [9/20] - Val classification Loss: 0.2838, Val iou Loss: 0.2640, Accuracy: 0.9104, IoU: 0.7480\n"
     ]
    },
    {
     "name": "stderr",
     "output_type": "stream",
     "text": [
      "                                                                          \r"
     ]
    },
    {
     "name": "stdout",
     "output_type": "stream",
     "text": [
      "Epoch [10/20] - Train classification Loss: 0.1152, Train iou Loss: 0.2971, Accuracy: 0.9638, IoU: 0.7099\n",
      "Epoch [10/20] - Val classification Loss: 0.1139, Val iou Loss: 0.2337, Accuracy: 0.9637, IoU: 0.7775\n"
     ]
    },
    {
     "name": "stderr",
     "output_type": "stream",
     "text": [
      "                                                                          \r"
     ]
    },
    {
     "name": "stdout",
     "output_type": "stream",
     "text": [
      "Epoch [11/20] - Train classification Loss: 0.1052, Train iou Loss: 0.2702, Accuracy: 0.9677, IoU: 0.7376\n",
      "Epoch [11/20] - Val classification Loss: 0.1073, Val iou Loss: 0.2417, Accuracy: 0.9660, IoU: 0.7604\n"
     ]
    },
    {
     "name": "stderr",
     "output_type": "stream",
     "text": [
      "                                                                          \r"
     ]
    },
    {
     "name": "stdout",
     "output_type": "stream",
     "text": [
      "Epoch [12/20] - Train classification Loss: 0.0953, Train iou Loss: 0.2648, Accuracy: 0.9703, IoU: 0.7474\n",
      "Epoch [12/20] - Val classification Loss: 0.1308, Val iou Loss: 0.3334, Accuracy: 0.9600, IoU: 0.7236\n"
     ]
    },
    {
     "name": "stderr",
     "output_type": "stream",
     "text": [
      "                                                                          \r"
     ]
    },
    {
     "name": "stdout",
     "output_type": "stream",
     "text": [
      "Epoch [13/20] - Train classification Loss: 0.1002, Train iou Loss: 0.2568, Accuracy: 0.9685, IoU: 0.7526\n",
      "Epoch [13/20] - Val classification Loss: 0.1265, Val iou Loss: 0.2072, Accuracy: 0.9586, IoU: 0.8030\n"
     ]
    },
    {
     "name": "stderr",
     "output_type": "stream",
     "text": [
      "                                                                          \r"
     ]
    },
    {
     "name": "stdout",
     "output_type": "stream",
     "text": [
      "Epoch [14/20] - Train classification Loss: 0.0901, Train iou Loss: 0.2444, Accuracy: 0.9718, IoU: 0.7658\n",
      "Epoch [14/20] - Val classification Loss: 0.1013, Val iou Loss: 0.2231, Accuracy: 0.9694, IoU: 0.8015\n"
     ]
    },
    {
     "name": "stderr",
     "output_type": "stream",
     "text": [
      "                                                                          \r"
     ]
    },
    {
     "name": "stdout",
     "output_type": "stream",
     "text": [
      "Epoch [15/20] - Train classification Loss: 0.0859, Train iou Loss: 0.2326, Accuracy: 0.9723, IoU: 0.7780\n",
      "Epoch [15/20] - Val classification Loss: 0.0953, Val iou Loss: 0.2216, Accuracy: 0.9698, IoU: 0.7550\n"
     ]
    },
    {
     "name": "stderr",
     "output_type": "stream",
     "text": [
      "                                                                          \r"
     ]
    },
    {
     "name": "stdout",
     "output_type": "stream",
     "text": [
      "Epoch [16/20] - Train classification Loss: 0.0789, Train iou Loss: 0.2203, Accuracy: 0.9747, IoU: 0.7819\n",
      "Epoch [16/20] - Val classification Loss: 0.1036, Val iou Loss: 0.2323, Accuracy: 0.9679, IoU: 0.7914\n"
     ]
    },
    {
     "name": "stderr",
     "output_type": "stream",
     "text": [
      "                                                                          \r"
     ]
    },
    {
     "name": "stdout",
     "output_type": "stream",
     "text": [
      "Epoch [17/20] - Train classification Loss: 0.0730, Train iou Loss: 0.2179, Accuracy: 0.9773, IoU: 0.7925\n",
      "Epoch [17/20] - Val classification Loss: 0.0524, Val iou Loss: 0.2181, Accuracy: 0.9811, IoU: 0.7840\n"
     ]
    },
    {
     "name": "stderr",
     "output_type": "stream",
     "text": [
      "                                                                          \r"
     ]
    },
    {
     "name": "stdout",
     "output_type": "stream",
     "text": [
      "Epoch [18/20] - Train classification Loss: 0.0676, Train iou Loss: 0.2139, Accuracy: 0.9776, IoU: 0.8036\n",
      "Epoch [18/20] - Val classification Loss: 0.0579, Val iou Loss: 0.2287, Accuracy: 0.9818, IoU: 0.7623\n"
     ]
    },
    {
     "name": "stderr",
     "output_type": "stream",
     "text": [
      "                                                                          \r"
     ]
    },
    {
     "name": "stdout",
     "output_type": "stream",
     "text": [
      "Epoch [19/20] - Train classification Loss: 0.0698, Train iou Loss: 0.2252, Accuracy: 0.9784, IoU: 0.7906\n",
      "Epoch [19/20] - Val classification Loss: 0.0566, Val iou Loss: 0.1760, Accuracy: 0.9836, IoU: 0.8445\n"
     ]
    },
    {
     "name": "stderr",
     "output_type": "stream",
     "text": [
      "                                                                          \r"
     ]
    },
    {
     "name": "stdout",
     "output_type": "stream",
     "text": [
      "Epoch [20/20] - Train classification Loss: 0.0751, Train iou Loss: 0.2127, Accuracy: 0.9756, IoU: 0.7934\n",
      "Epoch [20/20] - Val classification Loss: 0.0554, Val iou Loss: 0.1967, Accuracy: 0.9830, IoU: 0.8153\n"
     ]
    }
   ],
   "source": [
    "# CE + IOU\n",
    "model = DetectionModel(num_classes=10).to('cuda')\n",
    "loss_function = CombinedLoss(num_classes=10,use_focal=False)\n",
    "optimizer = torch.optim.Adam(model.parameters(), lr=0.001)\n",
    "\n",
    "# Assuming the train_loader and val_loader are properly defined\n",
    "train_and_validate(model, train_dataloader, val_dataloader, optimizer, loss_function, epochs=20, visualize_after_train=True, log_dir='detection_logs_Resnet/resnet34_CE_IOU')\n"
   ]
  },
  {
   "cell_type": "code",
   "execution_count": 8,
   "id": "48097127-d7e5-4d8d-8df8-2c5d7855ab84",
   "metadata": {},
   "outputs": [
    {
     "name": "stderr",
     "output_type": "stream",
     "text": [
      "                                                                         \r"
     ]
    },
    {
     "name": "stdout",
     "output_type": "stream",
     "text": [
      "Epoch [1/20] - Train classification Loss: 0.3103, Train iou Loss: 0.4884, Accuracy: 0.3553, IoU: 0.5162\n",
      "Epoch [1/20] - Val classification Loss: 0.2425, Val iou Loss: 0.4136, Accuracy: 0.4701, IoU: 0.5815\n"
     ]
    },
    {
     "name": "stderr",
     "output_type": "stream",
     "text": [
      "                                                                         \r"
     ]
    },
    {
     "name": "stdout",
     "output_type": "stream",
     "text": [
      "Epoch [2/20] - Train classification Loss: 0.1462, Train iou Loss: 0.4206, Accuracy: 0.6412, IoU: 0.5856\n",
      "Epoch [2/20] - Val classification Loss: 0.1489, Val iou Loss: 0.3789, Accuracy: 0.6311, IoU: 0.5320\n"
     ]
    },
    {
     "name": "stderr",
     "output_type": "stream",
     "text": [
      "                                                                         \r"
     ]
    },
    {
     "name": "stdout",
     "output_type": "stream",
     "text": [
      "Epoch [3/20] - Train classification Loss: 0.0832, Train iou Loss: 0.3735, Accuracy: 0.7871, IoU: 0.6301\n",
      "Epoch [3/20] - Val classification Loss: 0.1701, Val iou Loss: 0.4131, Accuracy: 0.6135, IoU: 0.5620\n"
     ]
    },
    {
     "name": "stderr",
     "output_type": "stream",
     "text": [
      "                                                                         \r"
     ]
    },
    {
     "name": "stdout",
     "output_type": "stream",
     "text": [
      "Epoch [4/20] - Train classification Loss: 0.0580, Train iou Loss: 0.3528, Accuracy: 0.8521, IoU: 0.6497\n",
      "Epoch [4/20] - Val classification Loss: 0.0828, Val iou Loss: 0.2559, Accuracy: 0.7903, IoU: 0.7767\n"
     ]
    },
    {
     "name": "stderr",
     "output_type": "stream",
     "text": [
      "                                                                         \r"
     ]
    },
    {
     "name": "stdout",
     "output_type": "stream",
     "text": [
      "Epoch [5/20] - Train classification Loss: 0.0469, Train iou Loss: 0.3201, Accuracy: 0.8778, IoU: 0.6834\n",
      "Epoch [5/20] - Val classification Loss: 0.1021, Val iou Loss: 0.3091, Accuracy: 0.7589, IoU: 0.6604\n"
     ]
    },
    {
     "name": "stderr",
     "output_type": "stream",
     "text": [
      "                                                                         \r"
     ]
    },
    {
     "name": "stdout",
     "output_type": "stream",
     "text": [
      "Epoch [6/20] - Train classification Loss: 0.0359, Train iou Loss: 0.2938, Accuracy: 0.9045, IoU: 0.7138\n",
      "Epoch [6/20] - Val classification Loss: 0.0335, Val iou Loss: 0.3036, Accuracy: 0.9102, IoU: 0.7435\n"
     ]
    },
    {
     "name": "stderr",
     "output_type": "stream",
     "text": [
      "                                                                         \r"
     ]
    },
    {
     "name": "stdout",
     "output_type": "stream",
     "text": [
      "Epoch [7/20] - Train classification Loss: 0.0309, Train iou Loss: 0.2839, Accuracy: 0.9201, IoU: 0.7276\n",
      "Epoch [7/20] - Val classification Loss: 0.0469, Val iou Loss: 0.2733, Accuracy: 0.8591, IoU: 0.7380\n"
     ]
    },
    {
     "name": "stderr",
     "output_type": "stream",
     "text": [
      "                                                                         \r"
     ]
    },
    {
     "name": "stdout",
     "output_type": "stream",
     "text": [
      "Epoch [8/20] - Train classification Loss: 0.0289, Train iou Loss: 0.2656, Accuracy: 0.9247, IoU: 0.7484\n",
      "Epoch [8/20] - Val classification Loss: 0.0372, Val iou Loss: 0.2698, Accuracy: 0.8947, IoU: 0.7600\n"
     ]
    },
    {
     "name": "stderr",
     "output_type": "stream",
     "text": [
      "                                                                         \r"
     ]
    },
    {
     "name": "stdout",
     "output_type": "stream",
     "text": [
      "Epoch [9/20] - Train classification Loss: 0.0231, Train iou Loss: 0.2455, Accuracy: 0.9381, IoU: 0.7651\n",
      "Epoch [9/20] - Val classification Loss: 0.0205, Val iou Loss: 0.2116, Accuracy: 0.9466, IoU: 0.7886\n"
     ]
    },
    {
     "name": "stderr",
     "output_type": "stream",
     "text": [
      "                                                                          \r"
     ]
    },
    {
     "name": "stdout",
     "output_type": "stream",
     "text": [
      "Epoch [10/20] - Train classification Loss: 0.0232, Train iou Loss: 0.2424, Accuracy: 0.9356, IoU: 0.7721\n",
      "Epoch [10/20] - Val classification Loss: 0.0581, Val iou Loss: 0.2414, Accuracy: 0.8351, IoU: 0.7510\n"
     ]
    },
    {
     "name": "stderr",
     "output_type": "stream",
     "text": [
      "                                                                          \r"
     ]
    },
    {
     "name": "stdout",
     "output_type": "stream",
     "text": [
      "Epoch [11/20] - Train classification Loss: 0.0225, Train iou Loss: 0.2267, Accuracy: 0.9399, IoU: 0.7893\n",
      "Epoch [11/20] - Val classification Loss: 0.0239, Val iou Loss: 0.1940, Accuracy: 0.9336, IoU: 0.8399\n"
     ]
    },
    {
     "name": "stderr",
     "output_type": "stream",
     "text": [
      "                                                                          \r"
     ]
    },
    {
     "name": "stdout",
     "output_type": "stream",
     "text": [
      "Epoch [12/20] - Train classification Loss: 0.0187, Train iou Loss: 0.2165, Accuracy: 0.9499, IoU: 0.7969\n",
      "Epoch [12/20] - Val classification Loss: 0.0125, Val iou Loss: 0.2267, Accuracy: 0.9679, IoU: 0.7656\n"
     ]
    },
    {
     "name": "stderr",
     "output_type": "stream",
     "text": [
      "                                                                          \r"
     ]
    },
    {
     "name": "stdout",
     "output_type": "stream",
     "text": [
      "Epoch [13/20] - Train classification Loss: 0.0177, Train iou Loss: 0.2074, Accuracy: 0.9514, IoU: 0.8063\n",
      "Epoch [13/20] - Val classification Loss: 0.0190, Val iou Loss: 0.2084, Accuracy: 0.9502, IoU: 0.8090\n"
     ]
    },
    {
     "name": "stderr",
     "output_type": "stream",
     "text": [
      "                                                                          \r"
     ]
    },
    {
     "name": "stdout",
     "output_type": "stream",
     "text": [
      "Epoch [14/20] - Train classification Loss: 0.0163, Train iou Loss: 0.2010, Accuracy: 0.9542, IoU: 0.8151\n",
      "Epoch [14/20] - Val classification Loss: 0.0208, Val iou Loss: 0.1902, Accuracy: 0.9439, IoU: 0.8303\n"
     ]
    },
    {
     "name": "stderr",
     "output_type": "stream",
     "text": [
      "                                                                          \r"
     ]
    },
    {
     "name": "stdout",
     "output_type": "stream",
     "text": [
      "Epoch [15/20] - Train classification Loss: 0.0143, Train iou Loss: 0.1948, Accuracy: 0.9597, IoU: 0.8255\n",
      "Epoch [15/20] - Val classification Loss: 0.0743, Val iou Loss: 0.2051, Accuracy: 0.8384, IoU: 0.7929\n"
     ]
    },
    {
     "name": "stderr",
     "output_type": "stream",
     "text": [
      "                                                                          \r"
     ]
    },
    {
     "name": "stdout",
     "output_type": "stream",
     "text": [
      "Epoch [16/20] - Train classification Loss: 0.0151, Train iou Loss: 0.1940, Accuracy: 0.9588, IoU: 0.8238\n",
      "Epoch [16/20] - Val classification Loss: 0.0118, Val iou Loss: 0.1713, Accuracy: 0.9665, IoU: 0.8372\n"
     ]
    },
    {
     "name": "stderr",
     "output_type": "stream",
     "text": [
      "                                                                          \r"
     ]
    },
    {
     "name": "stdout",
     "output_type": "stream",
     "text": [
      "Epoch [17/20] - Train classification Loss: 0.0149, Train iou Loss: 0.1877, Accuracy: 0.9592, IoU: 0.8351\n",
      "Epoch [17/20] - Val classification Loss: 0.0158, Val iou Loss: 0.2261, Accuracy: 0.9572, IoU: 0.7938\n"
     ]
    },
    {
     "name": "stderr",
     "output_type": "stream",
     "text": [
      "                                                                          \r"
     ]
    },
    {
     "name": "stdout",
     "output_type": "stream",
     "text": [
      "Epoch [18/20] - Train classification Loss: 0.0135, Train iou Loss: 0.1847, Accuracy: 0.9639, IoU: 0.8349\n",
      "Epoch [18/20] - Val classification Loss: 0.0151, Val iou Loss: 0.1492, Accuracy: 0.9590, IoU: 0.8805\n"
     ]
    },
    {
     "name": "stderr",
     "output_type": "stream",
     "text": [
      "                                                                          \r"
     ]
    },
    {
     "name": "stdout",
     "output_type": "stream",
     "text": [
      "Epoch [19/20] - Train classification Loss: 0.0126, Train iou Loss: 0.1794, Accuracy: 0.9661, IoU: 0.8383\n",
      "Epoch [19/20] - Val classification Loss: 0.0227, Val iou Loss: 0.1807, Accuracy: 0.9431, IoU: 0.8386\n"
     ]
    },
    {
     "name": "stderr",
     "output_type": "stream",
     "text": [
      "                                                                          \r"
     ]
    },
    {
     "name": "stdout",
     "output_type": "stream",
     "text": [
      "Epoch [20/20] - Train classification Loss: 0.0129, Train iou Loss: 0.1783, Accuracy: 0.9646, IoU: 0.8420\n",
      "Epoch [20/20] - Val classification Loss: 0.0095, Val iou Loss: 0.1681, Accuracy: 0.9721, IoU: 0.8401\n"
     ]
    }
   ],
   "source": [
    "# Focal loss + IOU\n",
    "model = DetectionModel(num_classes=10).to('cuda')\n",
    "loss_function = CombinedLoss(num_classes=10,use_focal=True)\n",
    "optimizer = torch.optim.Adam(model.parameters(), lr=0.001)\n",
    "# Assuming the train_loader and val_loader are properly defined\n",
    "train_and_validate(model, train_dataloader, val_dataloader, optimizer, loss_function, epochs=20, visualize_after_train=True, log_dir='detection_logs_Resnet/resnet34_focal_IOU')\n"
   ]
  },
  {
   "cell_type": "code",
   "execution_count": 9,
   "id": "510f99ea-9199-44cc-9bed-5280437f8fdf",
   "metadata": {},
   "outputs": [
    {
     "name": "stdout",
     "output_type": "stream",
     "text": [
      "detection_logs/\n",
      "detection_logs/resnet34_CE_IOU/\n",
      "detection_logs/resnet34_CE_IOU/events.out.tfevents.1715375754.jupyter-ec23457.16534.1\n",
      "detection_logs/resnet34_CE_IOU/events.out.tfevents.1716423079.jupyter-ec23457.5312.1\n",
      "detection_logs/resnet34_CE_IOU/events.out.tfevents.1714915265.jupyter-ec23457.118610.1\n",
      "detection_logs/resnet34_CE_IOU/visualizations/\n",
      "detection_logs/resnet34_CE_IOU/visualizations/epoch_7_positive_visualizations.png\n",
      "detection_logs/resnet34_CE_IOU/visualizations/epoch_1_positive_visualizations.png\n",
      "detection_logs/resnet34_CE_IOU/visualizations/epoch_14_positive_visualizations.png\n",
      "detection_logs/resnet34_CE_IOU/visualizations/epoch_7_negative_visualizations.png\n",
      "detection_logs/resnet34_CE_IOU/visualizations/epoch_11_negative_visualizations.png\n",
      "detection_logs/resnet34_CE_IOU/visualizations/epoch_10_positive_visualizations.png\n",
      "detection_logs/resnet34_CE_IOU/visualizations/epoch_3_positive_visualizations.png\n",
      "detection_logs/resnet34_CE_IOU/visualizations/epoch_5_positive_visualizations.png\n",
      "detection_logs/resnet34_CE_IOU/visualizations/epoch_2_positive_visualizations.png\n",
      "detection_logs/resnet34_CE_IOU/visualizations/epoch_2_negative_visualizations.png\n",
      "detection_logs/resnet34_CE_IOU/visualizations/epoch_20_positive_visualizations.png\n",
      "detection_logs/resnet34_CE_IOU/visualizations/epoch_18_positive_visualizations.png\n",
      "detection_logs/resnet34_CE_IOU/visualizations/epoch_10_negative_visualizations.png\n",
      "detection_logs/resnet34_CE_IOU/visualizations/epoch_15_negative_visualizations.png\n",
      "detection_logs/resnet34_CE_IOU/visualizations/epoch_19_positive_visualizations.png\n",
      "detection_logs/resnet34_CE_IOU/visualizations/epoch_19_negative_visualizations.png\n",
      "detection_logs/resnet34_CE_IOU/visualizations/epoch_6_negative_visualizations.png\n",
      "detection_logs/resnet34_CE_IOU/visualizations/epoch_13_positive_visualizations.png\n",
      "detection_logs/resnet34_CE_IOU/visualizations/epoch_16_positive_visualizations.png\n",
      "detection_logs/resnet34_CE_IOU/visualizations/epoch_11_positive_visualizations.png\n",
      "detection_logs/resnet34_CE_IOU/visualizations/epoch_5_negative_visualizations.png\n",
      "detection_logs/resnet34_CE_IOU/visualizations/epoch_17_positive_visualizations.png\n",
      "detection_logs/resnet34_CE_IOU/visualizations/epoch_4_negative_visualizations.png\n",
      "detection_logs/resnet34_CE_IOU/visualizations/epoch_3_negative_visualizations.png\n",
      "detection_logs/resnet34_CE_IOU/visualizations/epoch_12_positive_visualizations.png\n",
      "detection_logs/resnet34_CE_IOU/visualizations/epoch_12_negative_visualizations.png\n",
      "detection_logs/resnet34_CE_IOU/visualizations/epoch_9_negative_visualizations.png\n",
      "detection_logs/resnet34_CE_IOU/visualizations/epoch_15_positive_visualizations.png\n",
      "detection_logs/resnet34_CE_IOU/visualizations/epoch_14_negative_visualizations.png\n",
      "detection_logs/resnet34_CE_IOU/visualizations/epoch_4_positive_visualizations.png\n",
      "detection_logs/resnet34_CE_IOU/visualizations/epoch_8_negative_visualizations.png\n",
      "detection_logs/resnet34_CE_IOU/visualizations/epoch_13_negative_visualizations.png\n",
      "detection_logs/resnet34_CE_IOU/visualizations/epoch_18_negative_visualizations.png\n",
      "detection_logs/resnet34_CE_IOU/visualizations/epoch_1_negative_visualizations.png\n",
      "detection_logs/resnet34_CE_IOU/visualizations/epoch_8_positive_visualizations.png\n",
      "detection_logs/resnet34_CE_IOU/visualizations/epoch_6_positive_visualizations.png\n",
      "detection_logs/resnet34_CE_IOU/visualizations/epoch_17_negative_visualizations.png\n",
      "detection_logs/resnet34_CE_IOU/visualizations/epoch_9_positive_visualizations.png\n",
      "detection_logs/resnet34_CE_IOU/visualizations/epoch_20_negative_visualizations.png\n",
      "detection_logs/resnet34_CE_IOU/visualizations/epoch_16_negative_visualizations.png\n",
      "detection_logs/resnet34_CE_Smoothl1/\n",
      "detection_logs/resnet34_CE_Smoothl1/events.out.tfevents.1714914873.jupyter-ec23457.118610.0\n",
      "detection_logs/resnet34_CE_Smoothl1/events.out.tfevents.1716422791.jupyter-ec23457.5312.0\n",
      "detection_logs/resnet34_CE_Smoothl1/events.out.tfevents.1715370337.jupyter-ec23457.135.0\n",
      "detection_logs/resnet34_CE_Smoothl1/events.out.tfevents.1716421611.jupyter-ec23457.184.0\n",
      "detection_logs/resnet34_CE_Smoothl1/events.out.tfevents.1715375397.jupyter-ec23457.16534.0\n",
      "detection_logs/resnet34_CE_Smoothl1/events.out.tfevents.1715370572.jupyter-ec23457.135.3\n",
      "detection_logs/resnet34_CE_Smoothl1/events.out.tfevents.1715370595.jupyter-ec23457.135.4\n",
      "detection_logs/resnet34_CE_Smoothl1/events.out.tfevents.1715370649.jupyter-ec23457.135.5\n",
      "detection_logs/resnet34_CE_Smoothl1/events.out.tfevents.1716422620.jupyter-ec23457.4859.0\n",
      "detection_logs/resnet34_CE_Smoothl1/events.out.tfevents.1715370512.jupyter-ec23457.135.1\n",
      "detection_logs/resnet34_CE_Smoothl1/events.out.tfevents.1715370553.jupyter-ec23457.135.2\n",
      "detection_logs/resnet34_CE_Smoothl1/events.out.tfevents.1715370796.jupyter-ec23457.13685.0\n",
      "detection_logs/resnet34_CE_Smoothl1/visualizations/\n",
      "detection_logs/resnet34_CE_Smoothl1/visualizations/epoch_7_positive_visualizations.png\n",
      "detection_logs/resnet34_CE_Smoothl1/visualizations/epoch_1_positive_visualizations.png\n",
      "detection_logs/resnet34_CE_Smoothl1/visualizations/epoch_14_positive_visualizations.png\n",
      "detection_logs/resnet34_CE_Smoothl1/visualizations/epoch_7_negative_visualizations.png\n",
      "detection_logs/resnet34_CE_Smoothl1/visualizations/epoch_11_negative_visualizations.png\n",
      "detection_logs/resnet34_CE_Smoothl1/visualizations/epoch_10_positive_visualizations.png\n",
      "detection_logs/resnet34_CE_Smoothl1/visualizations/epoch_3_positive_visualizations.png\n",
      "detection_logs/resnet34_CE_Smoothl1/visualizations/epoch_5_positive_visualizations.png\n",
      "detection_logs/resnet34_CE_Smoothl1/visualizations/epoch_2_positive_visualizations.png\n",
      "detection_logs/resnet34_CE_Smoothl1/visualizations/epoch_2_negative_visualizations.png\n",
      "detection_logs/resnet34_CE_Smoothl1/visualizations/epoch_20_positive_visualizations.png\n",
      "detection_logs/resnet34_CE_Smoothl1/visualizations/epoch_18_positive_visualizations.png\n",
      "detection_logs/resnet34_CE_Smoothl1/visualizations/epoch_10_negative_visualizations.png\n",
      "detection_logs/resnet34_CE_Smoothl1/visualizations/epoch_15_negative_visualizations.png\n",
      "detection_logs/resnet34_CE_Smoothl1/visualizations/epoch_19_positive_visualizations.png\n",
      "detection_logs/resnet34_CE_Smoothl1/visualizations/epoch_19_negative_visualizations.png\n",
      "detection_logs/resnet34_CE_Smoothl1/visualizations/epoch_6_negative_visualizations.png\n",
      "detection_logs/resnet34_CE_Smoothl1/visualizations/epoch_13_positive_visualizations.png\n",
      "detection_logs/resnet34_CE_Smoothl1/visualizations/epoch_16_positive_visualizations.png\n",
      "detection_logs/resnet34_CE_Smoothl1/visualizations/epoch_11_positive_visualizations.png\n",
      "detection_logs/resnet34_CE_Smoothl1/visualizations/epoch_5_negative_visualizations.png\n",
      "detection_logs/resnet34_CE_Smoothl1/visualizations/epoch_17_positive_visualizations.png\n",
      "detection_logs/resnet34_CE_Smoothl1/visualizations/epoch_4_negative_visualizations.png\n",
      "detection_logs/resnet34_CE_Smoothl1/visualizations/epoch_3_negative_visualizations.png\n",
      "detection_logs/resnet34_CE_Smoothl1/visualizations/.ipynb_checkpoints/\n",
      "detection_logs/resnet34_CE_Smoothl1/visualizations/.ipynb_checkpoints/epoch_1_negative_visualizations-checkpoint.png\n",
      "detection_logs/resnet34_CE_Smoothl1/visualizations/.ipynb_checkpoints/epoch_10_negative_visualizations-checkpoint.png\n",
      "detection_logs/resnet34_CE_Smoothl1/visualizations/.ipynb_checkpoints/epoch_1_positive_visualizations-checkpoint.png\n",
      "detection_logs/resnet34_CE_Smoothl1/visualizations/epoch_12_positive_visualizations.png\n",
      "detection_logs/resnet34_CE_Smoothl1/visualizations/epoch_12_negative_visualizations.png\n",
      "detection_logs/resnet34_CE_Smoothl1/visualizations/epoch_9_negative_visualizations.png\n",
      "detection_logs/resnet34_CE_Smoothl1/visualizations/epoch_15_positive_visualizations.png\n",
      "detection_logs/resnet34_CE_Smoothl1/visualizations/epoch_14_negative_visualizations.png\n",
      "detection_logs/resnet34_CE_Smoothl1/visualizations/epoch_4_positive_visualizations.png\n",
      "detection_logs/resnet34_CE_Smoothl1/visualizations/epoch_8_negative_visualizations.png\n",
      "detection_logs/resnet34_CE_Smoothl1/visualizations/epoch_13_negative_visualizations.png\n",
      "detection_logs/resnet34_CE_Smoothl1/visualizations/epoch_18_negative_visualizations.png\n",
      "detection_logs/resnet34_CE_Smoothl1/visualizations/epoch_1_negative_visualizations.png\n",
      "detection_logs/resnet34_CE_Smoothl1/visualizations/epoch_8_positive_visualizations.png\n",
      "detection_logs/resnet34_CE_Smoothl1/visualizations/epoch_6_positive_visualizations.png\n",
      "detection_logs/resnet34_CE_Smoothl1/visualizations/epoch_17_negative_visualizations.png\n",
      "detection_logs/resnet34_CE_Smoothl1/visualizations/epoch_9_positive_visualizations.png\n",
      "detection_logs/resnet34_CE_Smoothl1/visualizations/epoch_20_negative_visualizations.png\n",
      "detection_logs/resnet34_CE_Smoothl1/visualizations/epoch_16_negative_visualizations.png\n",
      "detection_logs/resnet34_focal_IOU/\n",
      "detection_logs/resnet34_focal_IOU/events.out.tfevents.1714915667.jupyter-ec23457.118610.2\n",
      "detection_logs/resnet34_focal_IOU/events.out.tfevents.1715376105.jupyter-ec23457.16534.2\n",
      "detection_logs/resnet34_focal_IOU/events.out.tfevents.1716423370.jupyter-ec23457.5312.2\n",
      "detection_logs/resnet34_focal_IOU/visualizations/\n",
      "detection_logs/resnet34_focal_IOU/visualizations/epoch_7_positive_visualizations.png\n",
      "detection_logs/resnet34_focal_IOU/visualizations/epoch_1_positive_visualizations.png\n",
      "detection_logs/resnet34_focal_IOU/visualizations/epoch_14_positive_visualizations.png\n",
      "detection_logs/resnet34_focal_IOU/visualizations/epoch_7_negative_visualizations.png\n",
      "detection_logs/resnet34_focal_IOU/visualizations/epoch_11_negative_visualizations.png\n",
      "detection_logs/resnet34_focal_IOU/visualizations/epoch_10_positive_visualizations.png\n",
      "detection_logs/resnet34_focal_IOU/visualizations/epoch_3_positive_visualizations.png\n",
      "detection_logs/resnet34_focal_IOU/visualizations/epoch_5_positive_visualizations.png\n",
      "detection_logs/resnet34_focal_IOU/visualizations/epoch_2_positive_visualizations.png\n",
      "detection_logs/resnet34_focal_IOU/visualizations/epoch_2_negative_visualizations.png\n",
      "detection_logs/resnet34_focal_IOU/visualizations/epoch_20_positive_visualizations.png\n",
      "detection_logs/resnet34_focal_IOU/visualizations/epoch_18_positive_visualizations.png\n",
      "detection_logs/resnet34_focal_IOU/visualizations/epoch_10_negative_visualizations.png\n",
      "detection_logs/resnet34_focal_IOU/visualizations/epoch_15_negative_visualizations.png\n",
      "detection_logs/resnet34_focal_IOU/visualizations/epoch_19_positive_visualizations.png\n",
      "detection_logs/resnet34_focal_IOU/visualizations/epoch_19_negative_visualizations.png\n",
      "detection_logs/resnet34_focal_IOU/visualizations/epoch_6_negative_visualizations.png\n",
      "detection_logs/resnet34_focal_IOU/visualizations/epoch_13_positive_visualizations.png\n",
      "detection_logs/resnet34_focal_IOU/visualizations/epoch_16_positive_visualizations.png\n",
      "detection_logs/resnet34_focal_IOU/visualizations/epoch_11_positive_visualizations.png\n",
      "detection_logs/resnet34_focal_IOU/visualizations/epoch_5_negative_visualizations.png\n",
      "detection_logs/resnet34_focal_IOU/visualizations/epoch_17_positive_visualizations.png\n",
      "detection_logs/resnet34_focal_IOU/visualizations/epoch_4_negative_visualizations.png\n",
      "detection_logs/resnet34_focal_IOU/visualizations/epoch_3_negative_visualizations.png\n",
      "detection_logs/resnet34_focal_IOU/visualizations/epoch_12_positive_visualizations.png\n",
      "detection_logs/resnet34_focal_IOU/visualizations/epoch_12_negative_visualizations.png\n",
      "detection_logs/resnet34_focal_IOU/visualizations/epoch_9_negative_visualizations.png\n",
      "detection_logs/resnet34_focal_IOU/visualizations/epoch_15_positive_visualizations.png\n",
      "detection_logs/resnet34_focal_IOU/visualizations/epoch_14_negative_visualizations.png\n",
      "detection_logs/resnet34_focal_IOU/visualizations/epoch_4_positive_visualizations.png\n",
      "detection_logs/resnet34_focal_IOU/visualizations/epoch_8_negative_visualizations.png\n",
      "detection_logs/resnet34_focal_IOU/visualizations/epoch_13_negative_visualizations.png\n",
      "detection_logs/resnet34_focal_IOU/visualizations/epoch_18_negative_visualizations.png\n",
      "detection_logs/resnet34_focal_IOU/visualizations/epoch_1_negative_visualizations.png\n",
      "detection_logs/resnet34_focal_IOU/visualizations/epoch_8_positive_visualizations.png\n",
      "detection_logs/resnet34_focal_IOU/visualizations/epoch_6_positive_visualizations.png\n",
      "detection_logs/resnet34_focal_IOU/visualizations/epoch_17_negative_visualizations.png\n",
      "detection_logs/resnet34_focal_IOU/visualizations/epoch_9_positive_visualizations.png\n",
      "detection_logs/resnet34_focal_IOU/visualizations/epoch_20_negative_visualizations.png\n",
      "detection_logs/resnet34_focal_IOU/visualizations/epoch_16_negative_visualizations.png\n"
     ]
    }
   ],
   "source": [
    "!tar -zcvf detection_logs_Resnet.tar.gz detection_logs"
   ]
  },
  {
   "cell_type": "code",
   "execution_count": null,
   "id": "56f05bcc-b9f9-4768-8386-621d48cc449a",
   "metadata": {},
   "outputs": [],
   "source": []
  }
 ],
 "metadata": {
  "kernelspec": {
   "display_name": "Python 3 (ipykernel)",
   "language": "python",
   "name": "python3"
  },
  "language_info": {
   "codemirror_mode": {
    "name": "ipython",
    "version": 3
   },
   "file_extension": ".py",
   "mimetype": "text/x-python",
   "name": "python",
   "nbconvert_exporter": "python",
   "pygments_lexer": "ipython3",
   "version": "3.10.13"
  }
 },
 "nbformat": 4,
 "nbformat_minor": 5
}
