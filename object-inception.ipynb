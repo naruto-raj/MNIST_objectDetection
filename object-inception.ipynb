{
 "cells": [
  {
   "cell_type": "code",
   "execution_count": 1,
   "id": "21c4926c-01a1-4f49-8123-2b7efe94aa97",
   "metadata": {},
   "outputs": [
    {
     "name": "stderr",
     "output_type": "stream",
     "text": [
      "2024-05-23 15:47:59.030853: I tensorflow/core/util/port.cc:113] oneDNN custom operations are on. You may see slightly different numerical results due to floating-point round-off errors from different computation orders. To turn them off, set the environment variable `TF_ENABLE_ONEDNN_OPTS=0`.\n",
      "2024-05-23 15:47:59.073515: E external/local_xla/xla/stream_executor/cuda/cuda_dnn.cc:9261] Unable to register cuDNN factory: Attempting to register factory for plugin cuDNN when one has already been registered\n",
      "2024-05-23 15:47:59.073567: E external/local_xla/xla/stream_executor/cuda/cuda_fft.cc:607] Unable to register cuFFT factory: Attempting to register factory for plugin cuFFT when one has already been registered\n",
      "2024-05-23 15:47:59.074745: E external/local_xla/xla/stream_executor/cuda/cuda_blas.cc:1515] Unable to register cuBLAS factory: Attempting to register factory for plugin cuBLAS when one has already been registered\n",
      "2024-05-23 15:47:59.081975: I tensorflow/core/platform/cpu_feature_guard.cc:182] This TensorFlow binary is optimized to use available CPU instructions in performance-critical operations.\n",
      "To enable the following instructions: AVX2 AVX512F AVX512_VNNI FMA, in other operations, rebuild TensorFlow with the appropriate compiler flags.\n",
      "2024-05-23 15:47:59.908010: W tensorflow/compiler/tf2tensorrt/utils/py_utils.cc:38] TF-TRT Warning: Could not find TensorRT\n"
     ]
    }
   ],
   "source": [
    "from Data_utils import *"
   ]
  },
  {
   "cell_type": "code",
   "execution_count": 2,
   "id": "07ebdbf9-93c5-476c-b494-cceff21f89f4",
   "metadata": {},
   "outputs": [],
   "source": [
    "from Googlenet import InceptionV1\n",
    "class DetectionModel(nn.Module):\n",
    "    def __init__(self, num_classes):\n",
    "        super(DetectionModel, self).__init__()\n",
    "        # Load a ResNet model but remove the fully connected layer\n",
    "        self.base_model = InceptionV1(aux_logits=False, num_classes=num_classes, in_channels=1, bbox=True)\n",
    "        self.num_classes=num_classes\n",
    "\n",
    "\n",
    "    def forward(self, x):\n",
    "        classes, bboxes = self.base_model(x)\n",
    "        bboxes = torch.sigmoid(bboxes)\n",
    "        bboxes = bboxes.view(-1, 4)  # reshape to (batch_size, num_classes, 4)\n",
    "\n",
    "        return classes, bboxes\n"
   ]
  },
  {
   "cell_type": "code",
   "execution_count": 3,
   "id": "8d600b50-c197-49ce-a2c7-449b5eaa6720",
   "metadata": {},
   "outputs": [],
   "source": [
    "# Train and Validation data loader\n",
    "train_dataloader = DataLoader(MNISTSyntheticDataset(train=False), \n",
    "                        batch_size=32,  # Consider batch size based on your GPU memory\n",
    "                        shuffle=True, \n",
    "                        num_workers=2)  # Increase this based on your system capabilities\n",
    "val_dataloader = DataLoader(MNISTSyntheticDataset(train=False), \n",
    "                        batch_size=32,  # Consider batch size based on your GPU memory\n",
    "                        shuffle=True, \n",
    "                        num_workers=2)  # Increase this based on your system capabilities\n",
    "\n"
   ]
  },
  {
   "cell_type": "code",
   "execution_count": 4,
   "id": "98968568-fcd1-4cc1-84ab-d795aaf5e393",
   "metadata": {},
   "outputs": [
    {
     "name": "stderr",
     "output_type": "stream",
     "text": [
      "Training Epoch 1/20:   0%|          | 0/313 [00:00<?, ?it/s]/opt/conda/lib/python3.10/site-packages/torch/nn/modules/conv.py:456: UserWarning: Applied workaround for CuDNN issue, install nvrtc.so (Triggered internally at ../aten/src/ATen/native/cudnn/Conv_v8.cpp:80.)\n",
      "  return F.conv2d(input, weight, bias, self.stride,\n",
      "                                                                        \r"
     ]
    },
    {
     "name": "stdout",
     "output_type": "stream",
     "text": [
      "Epoch [1/20] - Train classification Loss: 0.7026, Train iou Loss: 0.0157, Accuracy: 0.7654, IoU: 0.2674\n",
      "Epoch [1/20] - Val classification Loss: 1.2731, Val iou Loss: 0.0083, Accuracy: 0.6316, IoU: 0.3642\n"
     ]
    },
    {
     "name": "stderr",
     "output_type": "stream",
     "text": [
      "                                                                        \r"
     ]
    },
    {
     "name": "stdout",
     "output_type": "stream",
     "text": [
      "Epoch [2/20] - Train classification Loss: 0.3287, Train iou Loss: 0.0085, Accuracy: 0.8956, IoU: 0.3557\n",
      "Epoch [2/20] - Val classification Loss: 0.5264, Val iou Loss: 0.0038, Accuracy: 0.8456, IoU: 0.5013\n"
     ]
    },
    {
     "name": "stderr",
     "output_type": "stream",
     "text": [
      "                                                                        \r"
     ]
    },
    {
     "name": "stdout",
     "output_type": "stream",
     "text": [
      "Epoch [3/20] - Train classification Loss: 0.2306, Train iou Loss: 0.0064, Accuracy: 0.9290, IoU: 0.3953\n",
      "Epoch [3/20] - Val classification Loss: 0.3670, Val iou Loss: 0.0032, Accuracy: 0.8865, IoU: 0.5192\n"
     ]
    },
    {
     "name": "stderr",
     "output_type": "stream",
     "text": [
      "                                                                        \r"
     ]
    },
    {
     "name": "stdout",
     "output_type": "stream",
     "text": [
      "Epoch [4/20] - Train classification Loss: 0.1897, Train iou Loss: 0.0056, Accuracy: 0.9408, IoU: 0.4071\n",
      "Epoch [4/20] - Val classification Loss: 0.7493, Val iou Loss: 0.0027, Accuracy: 0.8037, IoU: 0.5219\n"
     ]
    },
    {
     "name": "stderr",
     "output_type": "stream",
     "text": [
      "                                                                        \r"
     ]
    },
    {
     "name": "stdout",
     "output_type": "stream",
     "text": [
      "Epoch [5/20] - Train classification Loss: 0.1644, Train iou Loss: 0.0050, Accuracy: 0.9499, IoU: 0.4260\n",
      "Epoch [5/20] - Val classification Loss: 0.2448, Val iou Loss: 0.0023, Accuracy: 0.9260, IoU: 0.5216\n"
     ]
    },
    {
     "name": "stderr",
     "output_type": "stream",
     "text": [
      "                                                                        \r"
     ]
    },
    {
     "name": "stdout",
     "output_type": "stream",
     "text": [
      "Epoch [6/20] - Train classification Loss: 0.1513, Train iou Loss: 0.0046, Accuracy: 0.9522, IoU: 0.4343\n",
      "Epoch [6/20] - Val classification Loss: 0.2516, Val iou Loss: 0.0024, Accuracy: 0.9216, IoU: 0.5226\n"
     ]
    },
    {
     "name": "stderr",
     "output_type": "stream",
     "text": [
      "                                                                        \r"
     ]
    },
    {
     "name": "stdout",
     "output_type": "stream",
     "text": [
      "Epoch [7/20] - Train classification Loss: 0.1314, Train iou Loss: 0.0045, Accuracy: 0.9593, IoU: 0.4414\n",
      "Epoch [7/20] - Val classification Loss: 0.1201, Val iou Loss: 0.0018, Accuracy: 0.9613, IoU: 0.5754\n"
     ]
    },
    {
     "name": "stderr",
     "output_type": "stream",
     "text": [
      "                                                                        \r"
     ]
    },
    {
     "name": "stdout",
     "output_type": "stream",
     "text": [
      "Epoch [8/20] - Train classification Loss: 0.1306, Train iou Loss: 0.0042, Accuracy: 0.9602, IoU: 0.4461\n",
      "Epoch [8/20] - Val classification Loss: 0.1934, Val iou Loss: 0.0029, Accuracy: 0.9439, IoU: 0.5294\n"
     ]
    },
    {
     "name": "stderr",
     "output_type": "stream",
     "text": [
      "                                                                        \r"
     ]
    },
    {
     "name": "stdout",
     "output_type": "stream",
     "text": [
      "Epoch [9/20] - Train classification Loss: 0.1182, Train iou Loss: 0.0041, Accuracy: 0.9616, IoU: 0.4485\n",
      "Epoch [9/20] - Val classification Loss: 0.1402, Val iou Loss: 0.0018, Accuracy: 0.9546, IoU: 0.5788\n"
     ]
    },
    {
     "name": "stderr",
     "output_type": "stream",
     "text": [
      "                                                                         \r"
     ]
    },
    {
     "name": "stdout",
     "output_type": "stream",
     "text": [
      "Epoch [10/20] - Train classification Loss: 0.1096, Train iou Loss: 0.0039, Accuracy: 0.9669, IoU: 0.4533\n",
      "Epoch [10/20] - Val classification Loss: 0.0776, Val iou Loss: 0.0018, Accuracy: 0.9751, IoU: 0.5620\n"
     ]
    },
    {
     "name": "stderr",
     "output_type": "stream",
     "text": [
      "                                                                         \r"
     ]
    },
    {
     "name": "stdout",
     "output_type": "stream",
     "text": [
      "Epoch [11/20] - Train classification Loss: 0.1037, Train iou Loss: 0.0037, Accuracy: 0.9676, IoU: 0.4641\n",
      "Epoch [11/20] - Val classification Loss: 0.0742, Val iou Loss: 0.0014, Accuracy: 0.9771, IoU: 0.5924\n"
     ]
    },
    {
     "name": "stderr",
     "output_type": "stream",
     "text": [
      "                                                                         \r"
     ]
    },
    {
     "name": "stdout",
     "output_type": "stream",
     "text": [
      "Epoch [12/20] - Train classification Loss: 0.0825, Train iou Loss: 0.0036, Accuracy: 0.9757, IoU: 0.4656\n",
      "Epoch [12/20] - Val classification Loss: 0.2011, Val iou Loss: 0.0015, Accuracy: 0.9429, IoU: 0.5917\n"
     ]
    },
    {
     "name": "stderr",
     "output_type": "stream",
     "text": [
      "                                                                         \r"
     ]
    },
    {
     "name": "stdout",
     "output_type": "stream",
     "text": [
      "Epoch [13/20] - Train classification Loss: 0.0887, Train iou Loss: 0.0034, Accuracy: 0.9729, IoU: 0.4731\n",
      "Epoch [13/20] - Val classification Loss: 0.0474, Val iou Loss: 0.0014, Accuracy: 0.9847, IoU: 0.6049\n"
     ]
    },
    {
     "name": "stderr",
     "output_type": "stream",
     "text": [
      "                                                                         \r"
     ]
    },
    {
     "name": "stdout",
     "output_type": "stream",
     "text": [
      "Epoch [14/20] - Train classification Loss: 0.0899, Train iou Loss: 0.0034, Accuracy: 0.9722, IoU: 0.4718\n",
      "Epoch [14/20] - Val classification Loss: 0.0543, Val iou Loss: 0.0019, Accuracy: 0.9813, IoU: 0.5423\n"
     ]
    },
    {
     "name": "stderr",
     "output_type": "stream",
     "text": [
      "                                                                         \r"
     ]
    },
    {
     "name": "stdout",
     "output_type": "stream",
     "text": [
      "Epoch [15/20] - Train classification Loss: 0.0861, Train iou Loss: 0.0033, Accuracy: 0.9727, IoU: 0.4746\n",
      "Epoch [15/20] - Val classification Loss: 1.4227, Val iou Loss: 0.0016, Accuracy: 0.7046, IoU: 0.5812\n"
     ]
    },
    {
     "name": "stderr",
     "output_type": "stream",
     "text": [
      "                                                                         \r"
     ]
    },
    {
     "name": "stdout",
     "output_type": "stream",
     "text": [
      "Epoch [16/20] - Train classification Loss: 0.0872, Train iou Loss: 0.0033, Accuracy: 0.9732, IoU: 0.4789\n",
      "Epoch [16/20] - Val classification Loss: 0.1123, Val iou Loss: 0.0018, Accuracy: 0.9624, IoU: 0.5359\n"
     ]
    },
    {
     "name": "stderr",
     "output_type": "stream",
     "text": [
      "                                                                         \r"
     ]
    },
    {
     "name": "stdout",
     "output_type": "stream",
     "text": [
      "Epoch [17/20] - Train classification Loss: 0.0750, Train iou Loss: 0.0032, Accuracy: 0.9760, IoU: 0.4848\n",
      "Epoch [17/20] - Val classification Loss: 0.0522, Val iou Loss: 0.0014, Accuracy: 0.9827, IoU: 0.6101\n"
     ]
    },
    {
     "name": "stderr",
     "output_type": "stream",
     "text": [
      "                                                                         \r"
     ]
    },
    {
     "name": "stdout",
     "output_type": "stream",
     "text": [
      "Epoch [18/20] - Train classification Loss: 0.0793, Train iou Loss: 0.0031, Accuracy: 0.9756, IoU: 0.4893\n",
      "Epoch [18/20] - Val classification Loss: 0.0775, Val iou Loss: 0.0015, Accuracy: 0.9766, IoU: 0.5809\n"
     ]
    },
    {
     "name": "stderr",
     "output_type": "stream",
     "text": [
      "                                                                         \r"
     ]
    },
    {
     "name": "stdout",
     "output_type": "stream",
     "text": [
      "Epoch [19/20] - Train classification Loss: 0.0700, Train iou Loss: 0.0031, Accuracy: 0.9779, IoU: 0.4867\n",
      "Epoch [19/20] - Val classification Loss: 0.1592, Val iou Loss: 0.0016, Accuracy: 0.9587, IoU: 0.5911\n"
     ]
    },
    {
     "name": "stderr",
     "output_type": "stream",
     "text": [
      "                                                                         \r"
     ]
    },
    {
     "name": "stdout",
     "output_type": "stream",
     "text": [
      "Epoch [20/20] - Train classification Loss: 0.0749, Train iou Loss: 0.0029, Accuracy: 0.9767, IoU: 0.4994\n",
      "Epoch [20/20] - Val classification Loss: 0.1180, Val iou Loss: 0.0012, Accuracy: 0.9621, IoU: 0.6219\n"
     ]
    }
   ],
   "source": [
    "# CE + SmoothL1Loss\n",
    "model = DetectionModel(num_classes=10).to('cuda')\n",
    "loss_function = DetectionLoss(num_classes=10)\n",
    "optimizer = torch.optim.Adam(model.parameters(), lr=0.001)\n",
    "# Assuming the train_loader and val_loader are properly defined\n",
    "train_and_validate(model, train_dataloader, val_dataloader, optimizer, loss_function, epochs=20, visualize_after_train=True, log_dir='detection_logs_Inception/Inception_CE_Smoothl1')\n",
    "                   "
   ]
  },
  {
   "cell_type": "code",
   "execution_count": 5,
   "id": "f3a5b697-9ac3-4d4f-a4a7-aa65c610858a",
   "metadata": {},
   "outputs": [
    {
     "name": "stderr",
     "output_type": "stream",
     "text": [
      "                                                                        \r"
     ]
    },
    {
     "name": "stdout",
     "output_type": "stream",
     "text": [
      "Epoch [1/20] - Train classification Loss: 0.7700, Train iou Loss: 0.5829, Accuracy: 0.7324, IoU: 0.4097\n",
      "Epoch [1/20] - Val classification Loss: 0.7148, Val iou Loss: 0.4315, Accuracy: 0.7683, IoU: 0.5328\n"
     ]
    },
    {
     "name": "stderr",
     "output_type": "stream",
     "text": [
      "                                                                        \r"
     ]
    },
    {
     "name": "stdout",
     "output_type": "stream",
     "text": [
      "Epoch [2/20] - Train classification Loss: 0.3191, Train iou Loss: 0.4936, Accuracy: 0.8985, IoU: 0.4950\n",
      "Epoch [2/20] - Val classification Loss: 0.6779, Val iou Loss: 0.5168, Accuracy: 0.7842, IoU: 0.5263\n"
     ]
    },
    {
     "name": "stderr",
     "output_type": "stream",
     "text": [
      "                                                                        \r"
     ]
    },
    {
     "name": "stdout",
     "output_type": "stream",
     "text": [
      "Epoch [3/20] - Train classification Loss: 0.2474, Train iou Loss: 0.4541, Accuracy: 0.9227, IoU: 0.5397\n",
      "Epoch [3/20] - Val classification Loss: 0.2328, Val iou Loss: 0.3774, Accuracy: 0.9248, IoU: 0.6512\n"
     ]
    },
    {
     "name": "stderr",
     "output_type": "stream",
     "text": [
      "                                                                        \r"
     ]
    },
    {
     "name": "stdout",
     "output_type": "stream",
     "text": [
      "Epoch [4/20] - Train classification Loss: 0.1822, Train iou Loss: 0.4370, Accuracy: 0.9463, IoU: 0.5600\n",
      "Epoch [4/20] - Val classification Loss: 0.3635, Val iou Loss: 0.3763, Accuracy: 0.8859, IoU: 0.6176\n"
     ]
    },
    {
     "name": "stderr",
     "output_type": "stream",
     "text": [
      "                                                                        \r"
     ]
    },
    {
     "name": "stdout",
     "output_type": "stream",
     "text": [
      "Epoch [5/20] - Train classification Loss: 0.1644, Train iou Loss: 0.4230, Accuracy: 0.9492, IoU: 0.5736\n",
      "Epoch [5/20] - Val classification Loss: 0.1394, Val iou Loss: 0.3298, Accuracy: 0.9560, IoU: 0.6746\n"
     ]
    },
    {
     "name": "stderr",
     "output_type": "stream",
     "text": [
      "                                                                        \r"
     ]
    },
    {
     "name": "stdout",
     "output_type": "stream",
     "text": [
      "Epoch [6/20] - Train classification Loss: 0.1383, Train iou Loss: 0.3996, Accuracy: 0.9555, IoU: 0.5920\n",
      "Epoch [6/20] - Val classification Loss: 0.2713, Val iou Loss: 0.2969, Accuracy: 0.9187, IoU: 0.6927\n"
     ]
    },
    {
     "name": "stderr",
     "output_type": "stream",
     "text": [
      "                                                                        \r"
     ]
    },
    {
     "name": "stdout",
     "output_type": "stream",
     "text": [
      "Epoch [7/20] - Train classification Loss: 0.1417, Train iou Loss: 0.3858, Accuracy: 0.9547, IoU: 0.5983\n",
      "Epoch [7/20] - Val classification Loss: 0.0892, Val iou Loss: 0.3321, Accuracy: 0.9702, IoU: 0.6934\n"
     ]
    },
    {
     "name": "stderr",
     "output_type": "stream",
     "text": [
      "                                                                        \r"
     ]
    },
    {
     "name": "stdout",
     "output_type": "stream",
     "text": [
      "Epoch [8/20] - Train classification Loss: 0.1091, Train iou Loss: 0.3731, Accuracy: 0.9675, IoU: 0.6136\n",
      "Epoch [8/20] - Val classification Loss: 0.0652, Val iou Loss: 0.2990, Accuracy: 0.9804, IoU: 0.7182\n"
     ]
    },
    {
     "name": "stderr",
     "output_type": "stream",
     "text": [
      "                                                                        \r"
     ]
    },
    {
     "name": "stdout",
     "output_type": "stream",
     "text": [
      "Epoch [9/20] - Train classification Loss: 0.1011, Train iou Loss: 0.3677, Accuracy: 0.9686, IoU: 0.6140\n",
      "Epoch [9/20] - Val classification Loss: 0.1235, Val iou Loss: 0.3386, Accuracy: 0.9591, IoU: 0.6679\n"
     ]
    },
    {
     "name": "stderr",
     "output_type": "stream",
     "text": [
      "                                                                         \r"
     ]
    },
    {
     "name": "stdout",
     "output_type": "stream",
     "text": [
      "Epoch [10/20] - Train classification Loss: 0.1086, Train iou Loss: 0.3521, Accuracy: 0.9667, IoU: 0.6324\n",
      "Epoch [10/20] - Val classification Loss: 0.1017, Val iou Loss: 0.2970, Accuracy: 0.9685, IoU: 0.7080\n"
     ]
    },
    {
     "name": "stderr",
     "output_type": "stream",
     "text": [
      "                                                                         \r"
     ]
    },
    {
     "name": "stdout",
     "output_type": "stream",
     "text": [
      "Epoch [11/20] - Train classification Loss: 0.0978, Train iou Loss: 0.3443, Accuracy: 0.9703, IoU: 0.6382\n",
      "Epoch [11/20] - Val classification Loss: 0.0593, Val iou Loss: 0.3061, Accuracy: 0.9822, IoU: 0.7272\n"
     ]
    },
    {
     "name": "stderr",
     "output_type": "stream",
     "text": [
      "                                                                         \r"
     ]
    },
    {
     "name": "stdout",
     "output_type": "stream",
     "text": [
      "Epoch [12/20] - Train classification Loss: 0.0897, Train iou Loss: 0.3333, Accuracy: 0.9718, IoU: 0.6419\n",
      "Epoch [12/20] - Val classification Loss: 0.1001, Val iou Loss: 0.2782, Accuracy: 0.9705, IoU: 0.7417\n"
     ]
    },
    {
     "name": "stderr",
     "output_type": "stream",
     "text": [
      "                                                                         \r"
     ]
    },
    {
     "name": "stdout",
     "output_type": "stream",
     "text": [
      "Epoch [13/20] - Train classification Loss: 0.0809, Train iou Loss: 0.3269, Accuracy: 0.9750, IoU: 0.6495\n",
      "Epoch [13/20] - Val classification Loss: 0.0816, Val iou Loss: 0.3039, Accuracy: 0.9745, IoU: 0.6727\n"
     ]
    },
    {
     "name": "stderr",
     "output_type": "stream",
     "text": [
      "                                                                         \r"
     ]
    },
    {
     "name": "stdout",
     "output_type": "stream",
     "text": [
      "Epoch [14/20] - Train classification Loss: 0.0880, Train iou Loss: 0.3209, Accuracy: 0.9703, IoU: 0.6617\n",
      "Epoch [14/20] - Val classification Loss: 0.0473, Val iou Loss: 0.3343, Accuracy: 0.9857, IoU: 0.6767\n"
     ]
    },
    {
     "name": "stderr",
     "output_type": "stream",
     "text": [
      "                                                                         \r"
     ]
    },
    {
     "name": "stdout",
     "output_type": "stream",
     "text": [
      "Epoch [15/20] - Train classification Loss: 0.0726, Train iou Loss: 0.3028, Accuracy: 0.9767, IoU: 0.6689\n",
      "Epoch [15/20] - Val classification Loss: 0.0915, Val iou Loss: 0.2503, Accuracy: 0.9680, IoU: 0.7405\n"
     ]
    },
    {
     "name": "stderr",
     "output_type": "stream",
     "text": [
      "                                                                         \r"
     ]
    },
    {
     "name": "stdout",
     "output_type": "stream",
     "text": [
      "Epoch [16/20] - Train classification Loss: 0.0750, Train iou Loss: 0.3108, Accuracy: 0.9771, IoU: 0.6671\n",
      "Epoch [16/20] - Val classification Loss: 0.0522, Val iou Loss: 0.2338, Accuracy: 0.9831, IoU: 0.7428\n"
     ]
    },
    {
     "name": "stderr",
     "output_type": "stream",
     "text": [
      "                                                                         \r"
     ]
    },
    {
     "name": "stdout",
     "output_type": "stream",
     "text": [
      "Epoch [17/20] - Train classification Loss: 0.0771, Train iou Loss: 0.2985, Accuracy: 0.9765, IoU: 0.6737\n",
      "Epoch [17/20] - Val classification Loss: 0.0922, Val iou Loss: 0.2526, Accuracy: 0.9708, IoU: 0.7395\n"
     ]
    },
    {
     "name": "stderr",
     "output_type": "stream",
     "text": [
      "                                                                         \r"
     ]
    },
    {
     "name": "stdout",
     "output_type": "stream",
     "text": [
      "Epoch [18/20] - Train classification Loss: 0.0654, Train iou Loss: 0.2961, Accuracy: 0.9798, IoU: 0.6829\n",
      "Epoch [18/20] - Val classification Loss: 0.0370, Val iou Loss: 0.1969, Accuracy: 0.9882, IoU: 0.7822\n"
     ]
    },
    {
     "name": "stderr",
     "output_type": "stream",
     "text": [
      "                                                                         \r"
     ]
    },
    {
     "name": "stdout",
     "output_type": "stream",
     "text": [
      "Epoch [19/20] - Train classification Loss: 0.0618, Train iou Loss: 0.2854, Accuracy: 0.9804, IoU: 0.6930\n",
      "Epoch [19/20] - Val classification Loss: 0.0522, Val iou Loss: 0.2171, Accuracy: 0.9837, IoU: 0.7590\n"
     ]
    },
    {
     "name": "stderr",
     "output_type": "stream",
     "text": [
      "                                                                         \r"
     ]
    },
    {
     "name": "stdout",
     "output_type": "stream",
     "text": [
      "Epoch [20/20] - Train classification Loss: 0.0554, Train iou Loss: 0.2790, Accuracy: 0.9826, IoU: 0.6945\n",
      "Epoch [20/20] - Val classification Loss: 0.0482, Val iou Loss: 0.2095, Accuracy: 0.9851, IoU: 0.7630\n"
     ]
    }
   ],
   "source": [
    "# CE + IOU\n",
    "model = DetectionModel(num_classes=10).to('cuda')\n",
    "loss_function = CombinedLoss(num_classes=10,use_focal=False)\n",
    "optimizer = torch.optim.Adam(model.parameters(), lr=0.001)\n",
    "\n",
    "# Assuming the train_loader and val_loader are properly defined\n",
    "train_and_validate(model, train_dataloader, val_dataloader, optimizer, loss_function, epochs=20, visualize_after_train=True, log_dir='detection_logs_Inception/Inception_CE_IOU')\n"
   ]
  },
  {
   "cell_type": "code",
   "execution_count": 6,
   "id": "48097127-d7e5-4d8d-8df8-2c5d7855ab84",
   "metadata": {},
   "outputs": [
    {
     "name": "stderr",
     "output_type": "stream",
     "text": [
      "                                                                        \r"
     ]
    },
    {
     "name": "stdout",
     "output_type": "stream",
     "text": [
      "Epoch [1/20] - Train classification Loss: 0.2457, Train iou Loss: 0.5039, Accuracy: 0.4366, IoU: 0.4905\n",
      "Epoch [1/20] - Val classification Loss: 0.3100, Val iou Loss: 0.5057, Accuracy: 0.3152, IoU: 0.4572\n"
     ]
    },
    {
     "name": "stderr",
     "output_type": "stream",
     "text": [
      "                                                                        \r"
     ]
    },
    {
     "name": "stdout",
     "output_type": "stream",
     "text": [
      "Epoch [2/20] - Train classification Loss: 0.1003, Train iou Loss: 0.4365, Accuracy: 0.7431, IoU: 0.5610\n",
      "Epoch [2/20] - Val classification Loss: 0.1217, Val iou Loss: 0.3359, Accuracy: 0.7119, IoU: 0.6924\n"
     ]
    },
    {
     "name": "stderr",
     "output_type": "stream",
     "text": [
      "                                                                        \r"
     ]
    },
    {
     "name": "stdout",
     "output_type": "stream",
     "text": [
      "Epoch [3/20] - Train classification Loss: 0.0518, Train iou Loss: 0.4115, Accuracy: 0.8688, IoU: 0.5943\n",
      "Epoch [3/20] - Val classification Loss: 0.0582, Val iou Loss: 0.3192, Accuracy: 0.8409, IoU: 0.6576\n"
     ]
    },
    {
     "name": "stderr",
     "output_type": "stream",
     "text": [
      "                                                                        \r"
     ]
    },
    {
     "name": "stdout",
     "output_type": "stream",
     "text": [
      "Epoch [4/20] - Train classification Loss: 0.0353, Train iou Loss: 0.3787, Accuracy: 0.9095, IoU: 0.6195\n",
      "Epoch [4/20] - Val classification Loss: 0.1023, Val iou Loss: 0.5248, Accuracy: 0.7401, IoU: 0.5760\n"
     ]
    },
    {
     "name": "stderr",
     "output_type": "stream",
     "text": [
      "                                                                        \r"
     ]
    },
    {
     "name": "stdout",
     "output_type": "stream",
     "text": [
      "Epoch [5/20] - Train classification Loss: 0.0316, Train iou Loss: 0.3605, Accuracy: 0.9140, IoU: 0.6368\n",
      "Epoch [5/20] - Val classification Loss: 0.0502, Val iou Loss: 0.2921, Accuracy: 0.8569, IoU: 0.7144\n"
     ]
    },
    {
     "name": "stderr",
     "output_type": "stream",
     "text": [
      "                                                                        \r"
     ]
    },
    {
     "name": "stdout",
     "output_type": "stream",
     "text": [
      "Epoch [6/20] - Train classification Loss: 0.0277, Train iou Loss: 0.3395, Accuracy: 0.9256, IoU: 0.6583\n",
      "Epoch [6/20] - Val classification Loss: 0.0369, Val iou Loss: 0.3613, Accuracy: 0.9016, IoU: 0.6936\n"
     ]
    },
    {
     "name": "stderr",
     "output_type": "stream",
     "text": [
      "                                                                        \r"
     ]
    },
    {
     "name": "stdout",
     "output_type": "stream",
     "text": [
      "Epoch [7/20] - Train classification Loss: 0.0242, Train iou Loss: 0.3332, Accuracy: 0.9375, IoU: 0.6728\n",
      "Epoch [7/20] - Val classification Loss: 0.0203, Val iou Loss: 0.3181, Accuracy: 0.9537, IoU: 0.7348\n"
     ]
    },
    {
     "name": "stderr",
     "output_type": "stream",
     "text": [
      "                                                                        \r"
     ]
    },
    {
     "name": "stdout",
     "output_type": "stream",
     "text": [
      "Epoch [8/20] - Train classification Loss: 0.0217, Train iou Loss: 0.3132, Accuracy: 0.9459, IoU: 0.6865\n",
      "Epoch [8/20] - Val classification Loss: 0.0882, Val iou Loss: 0.3274, Accuracy: 0.8251, IoU: 0.6859\n"
     ]
    },
    {
     "name": "stderr",
     "output_type": "stream",
     "text": [
      "                                                                        \r"
     ]
    },
    {
     "name": "stdout",
     "output_type": "stream",
     "text": [
      "Epoch [9/20] - Train classification Loss: 0.0239, Train iou Loss: 0.2981, Accuracy: 0.9387, IoU: 0.7004\n",
      "Epoch [9/20] - Val classification Loss: 0.0269, Val iou Loss: 0.2268, Accuracy: 0.9248, IoU: 0.7854\n"
     ]
    },
    {
     "name": "stderr",
     "output_type": "stream",
     "text": [
      "                                                                         \r"
     ]
    },
    {
     "name": "stdout",
     "output_type": "stream",
     "text": [
      "Epoch [10/20] - Train classification Loss: 0.0197, Train iou Loss: 0.2883, Accuracy: 0.9483, IoU: 0.7118\n",
      "Epoch [10/20] - Val classification Loss: 0.0242, Val iou Loss: 0.2375, Accuracy: 0.9374, IoU: 0.7635\n"
     ]
    },
    {
     "name": "stderr",
     "output_type": "stream",
     "text": [
      "                                                                         \r"
     ]
    },
    {
     "name": "stdout",
     "output_type": "stream",
     "text": [
      "Epoch [11/20] - Train classification Loss: 0.0174, Train iou Loss: 0.2880, Accuracy: 0.9522, IoU: 0.7107\n",
      "Epoch [11/20] - Val classification Loss: 0.0108, Val iou Loss: 0.2385, Accuracy: 0.9731, IoU: 0.7431\n"
     ]
    },
    {
     "name": "stderr",
     "output_type": "stream",
     "text": [
      "                                                                         \r"
     ]
    },
    {
     "name": "stdout",
     "output_type": "stream",
     "text": [
      "Epoch [12/20] - Train classification Loss: 0.0181, Train iou Loss: 0.2702, Accuracy: 0.9540, IoU: 0.7223\n",
      "Epoch [12/20] - Val classification Loss: 0.0203, Val iou Loss: 0.2892, Accuracy: 0.9469, IoU: 0.6757\n"
     ]
    },
    {
     "name": "stderr",
     "output_type": "stream",
     "text": [
      "                                                                         \r"
     ]
    },
    {
     "name": "stdout",
     "output_type": "stream",
     "text": [
      "Epoch [13/20] - Train classification Loss: 0.0152, Train iou Loss: 0.2636, Accuracy: 0.9605, IoU: 0.7293\n",
      "Epoch [13/20] - Val classification Loss: 0.0109, Val iou Loss: 0.2091, Accuracy: 0.9734, IoU: 0.8047\n"
     ]
    },
    {
     "name": "stderr",
     "output_type": "stream",
     "text": [
      "                                                                         \r"
     ]
    },
    {
     "name": "stdout",
     "output_type": "stream",
     "text": [
      "Epoch [14/20] - Train classification Loss: 0.0151, Train iou Loss: 0.2570, Accuracy: 0.9614, IoU: 0.7381\n",
      "Epoch [14/20] - Val classification Loss: 0.0302, Val iou Loss: 0.2085, Accuracy: 0.9251, IoU: 0.7917\n"
     ]
    },
    {
     "name": "stderr",
     "output_type": "stream",
     "text": [
      "                                                                         \r"
     ]
    },
    {
     "name": "stdout",
     "output_type": "stream",
     "text": [
      "Epoch [15/20] - Train classification Loss: 0.0157, Train iou Loss: 0.2510, Accuracy: 0.9594, IoU: 0.7440\n",
      "Epoch [15/20] - Val classification Loss: 0.0162, Val iou Loss: 0.1819, Accuracy: 0.9581, IoU: 0.8331\n"
     ]
    },
    {
     "name": "stderr",
     "output_type": "stream",
     "text": [
      "                                                                         \r"
     ]
    },
    {
     "name": "stdout",
     "output_type": "stream",
     "text": [
      "Epoch [16/20] - Train classification Loss: 0.0138, Train iou Loss: 0.2521, Accuracy: 0.9631, IoU: 0.7491\n",
      "Epoch [16/20] - Val classification Loss: 0.0167, Val iou Loss: 0.2164, Accuracy: 0.9555, IoU: 0.7897\n"
     ]
    },
    {
     "name": "stderr",
     "output_type": "stream",
     "text": [
      "                                                                         \r"
     ]
    },
    {
     "name": "stdout",
     "output_type": "stream",
     "text": [
      "Epoch [17/20] - Train classification Loss: 0.0133, Train iou Loss: 0.2394, Accuracy: 0.9620, IoU: 0.7539\n",
      "Epoch [17/20] - Val classification Loss: 0.0285, Val iou Loss: 0.1711, Accuracy: 0.9180, IoU: 0.8203\n"
     ]
    },
    {
     "name": "stderr",
     "output_type": "stream",
     "text": [
      "                                                                         \r"
     ]
    },
    {
     "name": "stdout",
     "output_type": "stream",
     "text": [
      "Epoch [18/20] - Train classification Loss: 0.0116, Train iou Loss: 0.2352, Accuracy: 0.9686, IoU: 0.7531\n",
      "Epoch [18/20] - Val classification Loss: 0.0071, Val iou Loss: 0.1686, Accuracy: 0.9786, IoU: 0.8335\n"
     ]
    },
    {
     "name": "stderr",
     "output_type": "stream",
     "text": [
      "                                                                         \r"
     ]
    },
    {
     "name": "stdout",
     "output_type": "stream",
     "text": [
      "Epoch [19/20] - Train classification Loss: 0.0131, Train iou Loss: 0.2354, Accuracy: 0.9648, IoU: 0.7548\n",
      "Epoch [19/20] - Val classification Loss: 0.0081, Val iou Loss: 0.1682, Accuracy: 0.9784, IoU: 0.8500\n"
     ]
    },
    {
     "name": "stderr",
     "output_type": "stream",
     "text": [
      "                                                                         \r"
     ]
    },
    {
     "name": "stdout",
     "output_type": "stream",
     "text": [
      "Epoch [20/20] - Train classification Loss: 0.0100, Train iou Loss: 0.2298, Accuracy: 0.9717, IoU: 0.7672\n",
      "Epoch [20/20] - Val classification Loss: 0.0090, Val iou Loss: 0.1613, Accuracy: 0.9763, IoU: 0.8419\n"
     ]
    }
   ],
   "source": [
    "# Focal loss + IOU\n",
    "model = DetectionModel(num_classes=10).to('cuda')\n",
    "loss_function = CombinedLoss(num_classes=10,use_focal=True)\n",
    "optimizer = torch.optim.Adam(model.parameters(), lr=0.001)\n",
    "# Assuming the train_loader and val_loader are properly defined\n",
    "train_and_validate(model, train_dataloader, val_dataloader, optimizer, loss_function, epochs=20, visualize_after_train=True, log_dir='detection_logs_Inception/Inception_focal_IOU')\n"
   ]
  },
  {
   "cell_type": "code",
   "execution_count": 7,
   "id": "cd123855-b1da-485c-bcc5-858648652d38",
   "metadata": {},
   "outputs": [
    {
     "name": "stdout",
     "output_type": "stream",
     "text": [
      "detection_logs_Inception/\n",
      "detection_logs_Inception/Inception_CE_IOU/\n",
      "detection_logs_Inception/Inception_CE_IOU/events.out.tfevents.1716479616.jupyter-ec23457.10468.1\n",
      "detection_logs_Inception/Inception_CE_IOU/events.out.tfevents.1714926122.jupyter-ec23457.183212.1\n",
      "detection_logs_Inception/Inception_CE_IOU/visualizations/\n",
      "detection_logs_Inception/Inception_CE_IOU/visualizations/epoch_7_positive_visualizations.png\n",
      "detection_logs_Inception/Inception_CE_IOU/visualizations/epoch_1_positive_visualizations.png\n",
      "detection_logs_Inception/Inception_CE_IOU/visualizations/epoch_14_positive_visualizations.png\n",
      "detection_logs_Inception/Inception_CE_IOU/visualizations/epoch_7_negative_visualizations.png\n",
      "detection_logs_Inception/Inception_CE_IOU/visualizations/epoch_11_negative_visualizations.png\n",
      "detection_logs_Inception/Inception_CE_IOU/visualizations/epoch_10_positive_visualizations.png\n",
      "detection_logs_Inception/Inception_CE_IOU/visualizations/epoch_3_positive_visualizations.png\n",
      "detection_logs_Inception/Inception_CE_IOU/visualizations/epoch_5_positive_visualizations.png\n",
      "detection_logs_Inception/Inception_CE_IOU/visualizations/epoch_2_positive_visualizations.png\n",
      "detection_logs_Inception/Inception_CE_IOU/visualizations/epoch_2_negative_visualizations.png\n",
      "detection_logs_Inception/Inception_CE_IOU/visualizations/epoch_20_positive_visualizations.png\n",
      "detection_logs_Inception/Inception_CE_IOU/visualizations/epoch_18_positive_visualizations.png\n",
      "detection_logs_Inception/Inception_CE_IOU/visualizations/epoch_10_negative_visualizations.png\n",
      "detection_logs_Inception/Inception_CE_IOU/visualizations/epoch_15_negative_visualizations.png\n",
      "detection_logs_Inception/Inception_CE_IOU/visualizations/epoch_19_positive_visualizations.png\n",
      "detection_logs_Inception/Inception_CE_IOU/visualizations/epoch_19_negative_visualizations.png\n",
      "detection_logs_Inception/Inception_CE_IOU/visualizations/epoch_6_negative_visualizations.png\n",
      "detection_logs_Inception/Inception_CE_IOU/visualizations/epoch_13_positive_visualizations.png\n",
      "detection_logs_Inception/Inception_CE_IOU/visualizations/epoch_16_positive_visualizations.png\n",
      "detection_logs_Inception/Inception_CE_IOU/visualizations/epoch_11_positive_visualizations.png\n",
      "detection_logs_Inception/Inception_CE_IOU/visualizations/epoch_5_negative_visualizations.png\n",
      "detection_logs_Inception/Inception_CE_IOU/visualizations/epoch_17_positive_visualizations.png\n",
      "detection_logs_Inception/Inception_CE_IOU/visualizations/epoch_4_negative_visualizations.png\n",
      "detection_logs_Inception/Inception_CE_IOU/visualizations/epoch_3_negative_visualizations.png\n",
      "detection_logs_Inception/Inception_CE_IOU/visualizations/epoch_12_positive_visualizations.png\n",
      "detection_logs_Inception/Inception_CE_IOU/visualizations/epoch_12_negative_visualizations.png\n",
      "detection_logs_Inception/Inception_CE_IOU/visualizations/epoch_9_negative_visualizations.png\n",
      "detection_logs_Inception/Inception_CE_IOU/visualizations/epoch_15_positive_visualizations.png\n",
      "detection_logs_Inception/Inception_CE_IOU/visualizations/epoch_14_negative_visualizations.png\n",
      "detection_logs_Inception/Inception_CE_IOU/visualizations/epoch_4_positive_visualizations.png\n",
      "detection_logs_Inception/Inception_CE_IOU/visualizations/epoch_8_negative_visualizations.png\n",
      "detection_logs_Inception/Inception_CE_IOU/visualizations/epoch_13_negative_visualizations.png\n",
      "detection_logs_Inception/Inception_CE_IOU/visualizations/epoch_18_negative_visualizations.png\n",
      "detection_logs_Inception/Inception_CE_IOU/visualizations/epoch_1_negative_visualizations.png\n",
      "detection_logs_Inception/Inception_CE_IOU/visualizations/epoch_8_positive_visualizations.png\n",
      "detection_logs_Inception/Inception_CE_IOU/visualizations/epoch_6_positive_visualizations.png\n",
      "detection_logs_Inception/Inception_CE_IOU/visualizations/epoch_17_negative_visualizations.png\n",
      "detection_logs_Inception/Inception_CE_IOU/visualizations/epoch_9_positive_visualizations.png\n",
      "detection_logs_Inception/Inception_CE_IOU/visualizations/epoch_20_negative_visualizations.png\n",
      "detection_logs_Inception/Inception_CE_IOU/visualizations/epoch_16_negative_visualizations.png\n",
      "detection_logs_Inception/Inception_CE_Smoothl1/\n",
      "detection_logs_Inception/Inception_CE_Smoothl1/events.out.tfevents.1714925580.jupyter-ec23457.183212.0\n",
      "detection_logs_Inception/Inception_CE_Smoothl1/events.out.tfevents.1716421932.jupyter-ec23457.867.2\n",
      "detection_logs_Inception/Inception_CE_Smoothl1/events.out.tfevents.1716479281.jupyter-ec23457.10468.0\n",
      "detection_logs_Inception/Inception_CE_Smoothl1/events.out.tfevents.1716421836.jupyter-ec23457.867.1\n",
      "detection_logs_Inception/Inception_CE_Smoothl1/events.out.tfevents.1716421828.jupyter-ec23457.867.0\n",
      "detection_logs_Inception/Inception_CE_Smoothl1/visualizations/\n",
      "detection_logs_Inception/Inception_CE_Smoothl1/visualizations/epoch_7_positive_visualizations.png\n",
      "detection_logs_Inception/Inception_CE_Smoothl1/visualizations/epoch_1_positive_visualizations.png\n",
      "detection_logs_Inception/Inception_CE_Smoothl1/visualizations/epoch_14_positive_visualizations.png\n",
      "detection_logs_Inception/Inception_CE_Smoothl1/visualizations/epoch_7_negative_visualizations.png\n",
      "detection_logs_Inception/Inception_CE_Smoothl1/visualizations/epoch_11_negative_visualizations.png\n",
      "detection_logs_Inception/Inception_CE_Smoothl1/visualizations/epoch_10_positive_visualizations.png\n",
      "detection_logs_Inception/Inception_CE_Smoothl1/visualizations/epoch_3_positive_visualizations.png\n",
      "detection_logs_Inception/Inception_CE_Smoothl1/visualizations/epoch_5_positive_visualizations.png\n",
      "detection_logs_Inception/Inception_CE_Smoothl1/visualizations/epoch_2_positive_visualizations.png\n",
      "detection_logs_Inception/Inception_CE_Smoothl1/visualizations/epoch_2_negative_visualizations.png\n",
      "detection_logs_Inception/Inception_CE_Smoothl1/visualizations/epoch_20_positive_visualizations.png\n",
      "detection_logs_Inception/Inception_CE_Smoothl1/visualizations/epoch_18_positive_visualizations.png\n",
      "detection_logs_Inception/Inception_CE_Smoothl1/visualizations/epoch_10_negative_visualizations.png\n",
      "detection_logs_Inception/Inception_CE_Smoothl1/visualizations/epoch_15_negative_visualizations.png\n",
      "detection_logs_Inception/Inception_CE_Smoothl1/visualizations/epoch_19_positive_visualizations.png\n",
      "detection_logs_Inception/Inception_CE_Smoothl1/visualizations/epoch_19_negative_visualizations.png\n",
      "detection_logs_Inception/Inception_CE_Smoothl1/visualizations/epoch_6_negative_visualizations.png\n",
      "detection_logs_Inception/Inception_CE_Smoothl1/visualizations/epoch_13_positive_visualizations.png\n",
      "detection_logs_Inception/Inception_CE_Smoothl1/visualizations/epoch_16_positive_visualizations.png\n",
      "detection_logs_Inception/Inception_CE_Smoothl1/visualizations/epoch_11_positive_visualizations.png\n",
      "detection_logs_Inception/Inception_CE_Smoothl1/visualizations/epoch_5_negative_visualizations.png\n",
      "detection_logs_Inception/Inception_CE_Smoothl1/visualizations/epoch_17_positive_visualizations.png\n",
      "detection_logs_Inception/Inception_CE_Smoothl1/visualizations/epoch_4_negative_visualizations.png\n",
      "detection_logs_Inception/Inception_CE_Smoothl1/visualizations/epoch_3_negative_visualizations.png\n",
      "detection_logs_Inception/Inception_CE_Smoothl1/visualizations/.ipynb_checkpoints/\n",
      "detection_logs_Inception/Inception_CE_Smoothl1/visualizations/.ipynb_checkpoints/epoch_1_negative_visualizations-checkpoint.png\n",
      "detection_logs_Inception/Inception_CE_Smoothl1/visualizations/epoch_12_positive_visualizations.png\n",
      "detection_logs_Inception/Inception_CE_Smoothl1/visualizations/epoch_12_negative_visualizations.png\n",
      "detection_logs_Inception/Inception_CE_Smoothl1/visualizations/epoch_9_negative_visualizations.png\n",
      "detection_logs_Inception/Inception_CE_Smoothl1/visualizations/epoch_15_positive_visualizations.png\n",
      "detection_logs_Inception/Inception_CE_Smoothl1/visualizations/epoch_14_negative_visualizations.png\n",
      "detection_logs_Inception/Inception_CE_Smoothl1/visualizations/epoch_4_positive_visualizations.png\n",
      "detection_logs_Inception/Inception_CE_Smoothl1/visualizations/epoch_8_negative_visualizations.png\n",
      "detection_logs_Inception/Inception_CE_Smoothl1/visualizations/epoch_13_negative_visualizations.png\n",
      "detection_logs_Inception/Inception_CE_Smoothl1/visualizations/epoch_18_negative_visualizations.png\n",
      "detection_logs_Inception/Inception_CE_Smoothl1/visualizations/epoch_1_negative_visualizations.png\n",
      "detection_logs_Inception/Inception_CE_Smoothl1/visualizations/epoch_8_positive_visualizations.png\n",
      "detection_logs_Inception/Inception_CE_Smoothl1/visualizations/epoch_6_positive_visualizations.png\n",
      "detection_logs_Inception/Inception_CE_Smoothl1/visualizations/epoch_17_negative_visualizations.png\n",
      "detection_logs_Inception/Inception_CE_Smoothl1/visualizations/epoch_9_positive_visualizations.png\n",
      "detection_logs_Inception/Inception_CE_Smoothl1/visualizations/epoch_20_negative_visualizations.png\n",
      "detection_logs_Inception/Inception_CE_Smoothl1/visualizations/epoch_16_negative_visualizations.png\n",
      "detection_logs_Inception/Inception_focal_IOU/\n",
      "detection_logs_Inception/Inception_focal_IOU/events.out.tfevents.1716479952.jupyter-ec23457.10468.2\n",
      "detection_logs_Inception/Inception_focal_IOU/events.out.tfevents.1714926720.jupyter-ec23457.183212.2\n",
      "detection_logs_Inception/Inception_focal_IOU/visualizations/\n",
      "detection_logs_Inception/Inception_focal_IOU/visualizations/epoch_7_positive_visualizations.png\n",
      "detection_logs_Inception/Inception_focal_IOU/visualizations/epoch_1_positive_visualizations.png\n",
      "detection_logs_Inception/Inception_focal_IOU/visualizations/epoch_14_positive_visualizations.png\n",
      "detection_logs_Inception/Inception_focal_IOU/visualizations/epoch_7_negative_visualizations.png\n",
      "detection_logs_Inception/Inception_focal_IOU/visualizations/epoch_11_negative_visualizations.png\n",
      "detection_logs_Inception/Inception_focal_IOU/visualizations/epoch_10_positive_visualizations.png\n",
      "detection_logs_Inception/Inception_focal_IOU/visualizations/epoch_3_positive_visualizations.png\n",
      "detection_logs_Inception/Inception_focal_IOU/visualizations/epoch_5_positive_visualizations.png\n",
      "detection_logs_Inception/Inception_focal_IOU/visualizations/epoch_2_positive_visualizations.png\n",
      "detection_logs_Inception/Inception_focal_IOU/visualizations/epoch_2_negative_visualizations.png\n",
      "detection_logs_Inception/Inception_focal_IOU/visualizations/epoch_20_positive_visualizations.png\n",
      "detection_logs_Inception/Inception_focal_IOU/visualizations/epoch_18_positive_visualizations.png\n",
      "detection_logs_Inception/Inception_focal_IOU/visualizations/epoch_10_negative_visualizations.png\n",
      "detection_logs_Inception/Inception_focal_IOU/visualizations/epoch_15_negative_visualizations.png\n",
      "detection_logs_Inception/Inception_focal_IOU/visualizations/epoch_19_positive_visualizations.png\n",
      "detection_logs_Inception/Inception_focal_IOU/visualizations/epoch_19_negative_visualizations.png\n",
      "detection_logs_Inception/Inception_focal_IOU/visualizations/epoch_6_negative_visualizations.png\n",
      "detection_logs_Inception/Inception_focal_IOU/visualizations/epoch_13_positive_visualizations.png\n",
      "detection_logs_Inception/Inception_focal_IOU/visualizations/epoch_16_positive_visualizations.png\n",
      "detection_logs_Inception/Inception_focal_IOU/visualizations/epoch_11_positive_visualizations.png\n",
      "detection_logs_Inception/Inception_focal_IOU/visualizations/epoch_5_negative_visualizations.png\n",
      "detection_logs_Inception/Inception_focal_IOU/visualizations/epoch_17_positive_visualizations.png\n",
      "detection_logs_Inception/Inception_focal_IOU/visualizations/epoch_4_negative_visualizations.png\n",
      "detection_logs_Inception/Inception_focal_IOU/visualizations/epoch_3_negative_visualizations.png\n",
      "detection_logs_Inception/Inception_focal_IOU/visualizations/.ipynb_checkpoints/\n",
      "detection_logs_Inception/Inception_focal_IOU/visualizations/.ipynb_checkpoints/epoch_20_negative_visualizations-checkpoint.png\n",
      "detection_logs_Inception/Inception_focal_IOU/visualizations/.ipynb_checkpoints/epoch_1_negative_visualizations-checkpoint.png\n",
      "detection_logs_Inception/Inception_focal_IOU/visualizations/.ipynb_checkpoints/epoch_20_positive_visualizations-checkpoint.png\n",
      "detection_logs_Inception/Inception_focal_IOU/visualizations/epoch_12_positive_visualizations.png\n",
      "detection_logs_Inception/Inception_focal_IOU/visualizations/epoch_12_negative_visualizations.png\n",
      "detection_logs_Inception/Inception_focal_IOU/visualizations/epoch_9_negative_visualizations.png\n",
      "detection_logs_Inception/Inception_focal_IOU/visualizations/epoch_15_positive_visualizations.png\n",
      "detection_logs_Inception/Inception_focal_IOU/visualizations/epoch_14_negative_visualizations.png\n",
      "detection_logs_Inception/Inception_focal_IOU/visualizations/epoch_4_positive_visualizations.png\n",
      "detection_logs_Inception/Inception_focal_IOU/visualizations/epoch_8_negative_visualizations.png\n",
      "detection_logs_Inception/Inception_focal_IOU/visualizations/epoch_13_negative_visualizations.png\n",
      "detection_logs_Inception/Inception_focal_IOU/visualizations/epoch_18_negative_visualizations.png\n",
      "detection_logs_Inception/Inception_focal_IOU/visualizations/epoch_1_negative_visualizations.png\n",
      "detection_logs_Inception/Inception_focal_IOU/visualizations/epoch_8_positive_visualizations.png\n",
      "detection_logs_Inception/Inception_focal_IOU/visualizations/epoch_6_positive_visualizations.png\n",
      "detection_logs_Inception/Inception_focal_IOU/visualizations/epoch_17_negative_visualizations.png\n",
      "detection_logs_Inception/Inception_focal_IOU/visualizations/epoch_9_positive_visualizations.png\n",
      "detection_logs_Inception/Inception_focal_IOU/visualizations/epoch_20_negative_visualizations.png\n",
      "detection_logs_Inception/Inception_focal_IOU/visualizations/epoch_16_negative_visualizations.png\n"
     ]
    }
   ],
   "source": [
    "!tar -zcvf detection_logs_Inception.tar.gz detection_logs_Inception"
   ]
  },
  {
   "cell_type": "code",
   "execution_count": null,
   "id": "6a698609-001d-4238-9e24-1503ca83867e",
   "metadata": {},
   "outputs": [],
   "source": []
  }
 ],
 "metadata": {
  "kernelspec": {
   "display_name": "Python 3 (ipykernel)",
   "language": "python",
   "name": "python3"
  },
  "language_info": {
   "codemirror_mode": {
    "name": "ipython",
    "version": 3
   },
   "file_extension": ".py",
   "mimetype": "text/x-python",
   "name": "python",
   "nbconvert_exporter": "python",
   "pygments_lexer": "ipython3",
   "version": "3.10.13"
  }
 },
 "nbformat": 4,
 "nbformat_minor": 5
}
