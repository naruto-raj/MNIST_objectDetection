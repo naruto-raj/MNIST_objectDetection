{
 "cells": [
  {
   "cell_type": "code",
   "execution_count": 1,
   "id": "71a08850-11cf-440d-b5ae-0b8edc65831d",
   "metadata": {},
   "outputs": [
    {
     "name": "stderr",
     "output_type": "stream",
     "text": [
      "2024-05-23 15:12:29.997834: I tensorflow/core/util/port.cc:113] oneDNN custom operations are on. You may see slightly different numerical results due to floating-point round-off errors from different computation orders. To turn them off, set the environment variable `TF_ENABLE_ONEDNN_OPTS=0`.\n",
      "2024-05-23 15:12:30.044966: E external/local_xla/xla/stream_executor/cuda/cuda_dnn.cc:9261] Unable to register cuDNN factory: Attempting to register factory for plugin cuDNN when one has already been registered\n",
      "2024-05-23 15:12:30.045013: E external/local_xla/xla/stream_executor/cuda/cuda_fft.cc:607] Unable to register cuFFT factory: Attempting to register factory for plugin cuFFT when one has already been registered\n",
      "2024-05-23 15:12:30.046152: E external/local_xla/xla/stream_executor/cuda/cuda_blas.cc:1515] Unable to register cuBLAS factory: Attempting to register factory for plugin cuBLAS when one has already been registered\n",
      "2024-05-23 15:12:30.053013: I tensorflow/core/platform/cpu_feature_guard.cc:182] This TensorFlow binary is optimized to use available CPU instructions in performance-critical operations.\n",
      "To enable the following instructions: AVX2 AVX512F AVX512_VNNI FMA, in other operations, rebuild TensorFlow with the appropriate compiler flags.\n",
      "2024-05-23 15:12:30.870959: W tensorflow/compiler/tf2tensorrt/utils/py_utils.cc:38] TF-TRT Warning: Could not find TensorRT\n"
     ]
    }
   ],
   "source": [
    "from Data_utils import *"
   ]
  },
  {
   "cell_type": "code",
   "execution_count": 2,
   "id": "2ea6cb56-56a0-41e9-900a-c6f2847296da",
   "metadata": {},
   "outputs": [],
   "source": [
    "from vgg import VGG\n",
    "class DetectionModel(nn.Module):\n",
    "    def __init__(self, num_classes):\n",
    "        super(DetectionModel, self).__init__()\n",
    "        # Load a ResNet model but remove the fully connected layer\n",
    "        base_model = VGG('VGG16', 1, num_classes)\n",
    "        self.features = nn.Sequential(*list(base_model.children())[:-1])  # Remove the last layer\n",
    "        self.num_classes=num_classes\n",
    "\n",
    "        # Output layer for class predictions\n",
    "        self.classifier = nn.Linear(7*7*512, num_classes)  # 512 is the feature size of ResNet34 at the end\n",
    "\n",
    "        # Output layers for bounding box predictions\n",
    "        # 4 outputs per class: start_x, start_y, end_x, end_y\n",
    "        self.bbox_regressor = nn.Linear(7*7*512, 4)\n",
    "\n",
    "    def forward(self, x):\n",
    "        x = self.features(x)\n",
    "        x = x.view(x.size(0), -1)\n",
    "\n",
    "        # Class prediction\n",
    "        classes = self.classifier(x)\n",
    "\n",
    "        # Bounding box predictions\n",
    "        bboxes = self.bbox_regressor(x)\n",
    "        # Apply sigmoid to confine the outputs between 0 and 1\n",
    "        bboxes = torch.sigmoid(bboxes)\n",
    "        bboxes = bboxes.view(-1, 4)  # reshape to (batch_size, num_classes, 4)\n",
    "\n",
    "        return classes, bboxes"
   ]
  },
  {
   "cell_type": "code",
   "execution_count": 3,
   "id": "8d600b50-c197-49ce-a2c7-449b5eaa6720",
   "metadata": {},
   "outputs": [],
   "source": [
    "# Train and Validation data loader\n",
    "train_dataloader = DataLoader(MNISTSyntheticDataset(train=False), \n",
    "                        batch_size=32,  # Consider batch size based on your GPU memory\n",
    "                        shuffle=True, \n",
    "                        num_workers=2)  # Increase this based on your system capabilities\n",
    "val_dataloader = DataLoader(MNISTSyntheticDataset(train=False), \n",
    "                        batch_size=32,  # Consider batch size based on your GPU memory\n",
    "                        shuffle=True, \n",
    "                        num_workers=2)  # Increase this based on your system capabilities\n",
    "\n"
   ]
  },
  {
   "cell_type": "code",
   "execution_count": 4,
   "id": "98968568-fcd1-4cc1-84ab-d795aaf5e393",
   "metadata": {},
   "outputs": [
    {
     "name": "stderr",
     "output_type": "stream",
     "text": [
      "Training Epoch 1/20:   0%|          | 0/313 [00:00<?, ?it/s]/opt/conda/lib/python3.10/site-packages/torch/nn/modules/conv.py:456: UserWarning: Applied workaround for CuDNN issue, install nvrtc.so (Triggered internally at ../aten/src/ATen/native/cudnn/Conv_v8.cpp:80.)\n",
      "  return F.conv2d(input, weight, bias, self.stride,\n",
      "                                                                        \r"
     ]
    },
    {
     "name": "stdout",
     "output_type": "stream",
     "text": [
      "Epoch [1/20] - Train classification Loss: 2.7035, Train iou Loss: 0.0268, Accuracy: 0.1774, IoU: 0.2707\n",
      "Epoch [1/20] - Val classification Loss: 2.0599, Val iou Loss: 0.0067, Accuracy: 0.2789, IoU: 0.4497\n"
     ]
    },
    {
     "name": "stderr",
     "output_type": "stream",
     "text": [
      "                                                                        \r"
     ]
    },
    {
     "name": "stdout",
     "output_type": "stream",
     "text": [
      "Epoch [2/20] - Train classification Loss: 1.5499, Train iou Loss: 0.0049, Accuracy: 0.4245, IoU: 0.4747\n",
      "Epoch [2/20] - Val classification Loss: 1.5511, Val iou Loss: 0.0117, Accuracy: 0.3963, IoU: 0.2107\n"
     ]
    },
    {
     "name": "stderr",
     "output_type": "stream",
     "text": [
      "                                                                        \r"
     ]
    },
    {
     "name": "stdout",
     "output_type": "stream",
     "text": [
      "Epoch [3/20] - Train classification Loss: 1.0958, Train iou Loss: 0.0033, Accuracy: 0.6133, IoU: 0.5089\n",
      "Epoch [3/20] - Val classification Loss: 0.7831, Val iou Loss: 0.0028, Accuracy: 0.7385, IoU: 0.5146\n"
     ]
    },
    {
     "name": "stderr",
     "output_type": "stream",
     "text": [
      "                                                                        \r"
     ]
    },
    {
     "name": "stdout",
     "output_type": "stream",
     "text": [
      "Epoch [4/20] - Train classification Loss: 0.6891, Train iou Loss: 0.0025, Accuracy: 0.7725, IoU: 0.5375\n",
      "Epoch [4/20] - Val classification Loss: 1.5633, Val iou Loss: 0.0224, Accuracy: 0.5588, IoU: 0.3049\n"
     ]
    },
    {
     "name": "stderr",
     "output_type": "stream",
     "text": [
      "                                                                        \r"
     ]
    },
    {
     "name": "stdout",
     "output_type": "stream",
     "text": [
      "Epoch [5/20] - Train classification Loss: 0.4382, Train iou Loss: 0.0019, Accuracy: 0.8638, IoU: 0.5765\n",
      "Epoch [5/20] - Val classification Loss: 0.6022, Val iou Loss: 0.0013, Accuracy: 0.8155, IoU: 0.6248\n"
     ]
    },
    {
     "name": "stderr",
     "output_type": "stream",
     "text": [
      "                                                                        \r"
     ]
    },
    {
     "name": "stdout",
     "output_type": "stream",
     "text": [
      "Epoch [6/20] - Train classification Loss: 0.3245, Train iou Loss: 0.0016, Accuracy: 0.9013, IoU: 0.5910\n",
      "Epoch [6/20] - Val classification Loss: 2.0831, Val iou Loss: 0.0210, Accuracy: 0.5880, IoU: 0.3071\n"
     ]
    },
    {
     "name": "stderr",
     "output_type": "stream",
     "text": [
      "                                                                        \r"
     ]
    },
    {
     "name": "stdout",
     "output_type": "stream",
     "text": [
      "Epoch [7/20] - Train classification Loss: 0.2635, Train iou Loss: 0.0015, Accuracy: 0.9177, IoU: 0.5970\n",
      "Epoch [7/20] - Val classification Loss: 1.2401, Val iou Loss: 0.0108, Accuracy: 0.6745, IoU: 0.3679\n"
     ]
    },
    {
     "name": "stderr",
     "output_type": "stream",
     "text": [
      "                                                                        \r"
     ]
    },
    {
     "name": "stdout",
     "output_type": "stream",
     "text": [
      "Epoch [8/20] - Train classification Loss: 0.2263, Train iou Loss: 0.0013, Accuracy: 0.9306, IoU: 0.6086\n",
      "Epoch [8/20] - Val classification Loss: 2.9637, Val iou Loss: 0.0625, Accuracy: 0.5245, IoU: 0.1869\n"
     ]
    },
    {
     "name": "stderr",
     "output_type": "stream",
     "text": [
      "                                                                        \r"
     ]
    },
    {
     "name": "stdout",
     "output_type": "stream",
     "text": [
      "Epoch [9/20] - Train classification Loss: 0.1863, Train iou Loss: 0.0013, Accuracy: 0.9433, IoU: 0.6160\n",
      "Epoch [9/20] - Val classification Loss: 0.1577, Val iou Loss: 0.0012, Accuracy: 0.9538, IoU: 0.6356\n"
     ]
    },
    {
     "name": "stderr",
     "output_type": "stream",
     "text": [
      "                                                                         \r"
     ]
    },
    {
     "name": "stdout",
     "output_type": "stream",
     "text": [
      "Epoch [10/20] - Train classification Loss: 0.1777, Train iou Loss: 0.0013, Accuracy: 0.9463, IoU: 0.6147\n",
      "Epoch [10/20] - Val classification Loss: 9.0743, Val iou Loss: 0.0688, Accuracy: 0.2185, IoU: 0.1751\n"
     ]
    },
    {
     "name": "stderr",
     "output_type": "stream",
     "text": [
      "                                                                         \r"
     ]
    },
    {
     "name": "stdout",
     "output_type": "stream",
     "text": [
      "Epoch [11/20] - Train classification Loss: 0.1584, Train iou Loss: 0.0012, Accuracy: 0.9525, IoU: 0.6192\n",
      "Epoch [11/20] - Val classification Loss: 24.0906, Val iou Loss: 0.0700, Accuracy: 0.1257, IoU: 0.1716\n"
     ]
    },
    {
     "name": "stderr",
     "output_type": "stream",
     "text": [
      "                                                                         \r"
     ]
    },
    {
     "name": "stdout",
     "output_type": "stream",
     "text": [
      "Epoch [12/20] - Train classification Loss: 0.1359, Train iou Loss: 0.0010, Accuracy: 0.9574, IoU: 0.6440\n",
      "Epoch [12/20] - Val classification Loss: 7.9766, Val iou Loss: 0.0699, Accuracy: 0.2536, IoU: 0.1721\n"
     ]
    },
    {
     "name": "stderr",
     "output_type": "stream",
     "text": [
      "                                                                         \r"
     ]
    },
    {
     "name": "stdout",
     "output_type": "stream",
     "text": [
      "Epoch [13/20] - Train classification Loss: 0.1247, Train iou Loss: 0.0011, Accuracy: 0.9632, IoU: 0.6302\n",
      "Epoch [13/20] - Val classification Loss: 0.1539, Val iou Loss: 0.0014, Accuracy: 0.9522, IoU: 0.6039\n"
     ]
    },
    {
     "name": "stderr",
     "output_type": "stream",
     "text": [
      "                                                                         \r"
     ]
    },
    {
     "name": "stdout",
     "output_type": "stream",
     "text": [
      "Epoch [14/20] - Train classification Loss: 0.1370, Train iou Loss: 0.0010, Accuracy: 0.9575, IoU: 0.6445\n",
      "Epoch [14/20] - Val classification Loss: 0.1626, Val iou Loss: 0.0015, Accuracy: 0.9505, IoU: 0.5623\n"
     ]
    },
    {
     "name": "stderr",
     "output_type": "stream",
     "text": [
      "                                                                         \r"
     ]
    },
    {
     "name": "stdout",
     "output_type": "stream",
     "text": [
      "Epoch [15/20] - Train classification Loss: 0.1178, Train iou Loss: 0.0011, Accuracy: 0.9639, IoU: 0.6352\n",
      "Epoch [15/20] - Val classification Loss: 9.4069, Val iou Loss: 0.0701, Accuracy: 0.2353, IoU: 0.1726\n"
     ]
    },
    {
     "name": "stderr",
     "output_type": "stream",
     "text": [
      "                                                                         \r"
     ]
    },
    {
     "name": "stdout",
     "output_type": "stream",
     "text": [
      "Epoch [16/20] - Train classification Loss: 0.1176, Train iou Loss: 0.0009, Accuracy: 0.9646, IoU: 0.6542\n",
      "Epoch [16/20] - Val classification Loss: 0.1453, Val iou Loss: 0.0013, Accuracy: 0.9558, IoU: 0.5974\n"
     ]
    },
    {
     "name": "stderr",
     "output_type": "stream",
     "text": [
      "                                                                         \r"
     ]
    },
    {
     "name": "stdout",
     "output_type": "stream",
     "text": [
      "Epoch [17/20] - Train classification Loss: 0.1050, Train iou Loss: 0.0010, Accuracy: 0.9684, IoU: 0.6482\n",
      "Epoch [17/20] - Val classification Loss: 0.0768, Val iou Loss: 0.0009, Accuracy: 0.9752, IoU: 0.6534\n"
     ]
    },
    {
     "name": "stderr",
     "output_type": "stream",
     "text": [
      "                                                                         \r"
     ]
    },
    {
     "name": "stdout",
     "output_type": "stream",
     "text": [
      "Epoch [18/20] - Train classification Loss: 0.0993, Train iou Loss: 0.0010, Accuracy: 0.9689, IoU: 0.6463\n",
      "Epoch [18/20] - Val classification Loss: 0.1068, Val iou Loss: 0.0012, Accuracy: 0.9674, IoU: 0.5982\n"
     ]
    },
    {
     "name": "stderr",
     "output_type": "stream",
     "text": [
      "                                                                         \r"
     ]
    },
    {
     "name": "stdout",
     "output_type": "stream",
     "text": [
      "Epoch [19/20] - Train classification Loss: 0.1075, Train iou Loss: 0.0010, Accuracy: 0.9676, IoU: 0.6506\n",
      "Epoch [19/20] - Val classification Loss: 0.0887, Val iou Loss: 0.0008, Accuracy: 0.9737, IoU: 0.6730\n"
     ]
    },
    {
     "name": "stderr",
     "output_type": "stream",
     "text": [
      "                                                                         \r"
     ]
    },
    {
     "name": "stdout",
     "output_type": "stream",
     "text": [
      "Epoch [20/20] - Train classification Loss: 0.0994, Train iou Loss: 0.0009, Accuracy: 0.9710, IoU: 0.6577\n",
      "Epoch [20/20] - Val classification Loss: 0.1189, Val iou Loss: 0.0008, Accuracy: 0.9618, IoU: 0.6718\n"
     ]
    }
   ],
   "source": [
    "# CE + SmoothL1Loss\n",
    "model = DetectionModel(num_classes=10).to('cuda')\n",
    "loss_function = DetectionLoss(num_classes=10)\n",
    "optimizer = torch.optim.Adam(model.parameters(), lr=0.001)\n",
    "# Assuming the train_loader and val_loader are properly defined\n",
    "train_and_validate(model, train_dataloader, val_dataloader, optimizer, loss_function, epochs=20, visualize_after_train=True, log_dir='detection_logs_VGG/VGG16_CE_Smoothl1')\n",
    "                   "
   ]
  },
  {
   "cell_type": "code",
   "execution_count": 5,
   "id": "f3a5b697-9ac3-4d4f-a4a7-aa65c610858a",
   "metadata": {},
   "outputs": [
    {
     "name": "stderr",
     "output_type": "stream",
     "text": [
      "                                                                        \r"
     ]
    },
    {
     "name": "stdout",
     "output_type": "stream",
     "text": [
      "Epoch [1/20] - Train classification Loss: 2.6215, Train iou Loss: 0.7226, Accuracy: 0.2045, IoU: 0.2814\n",
      "Epoch [1/20] - Val classification Loss: 7.9336, Val iou Loss: 0.9340, Accuracy: 0.1354, IoU: 0.2153\n"
     ]
    },
    {
     "name": "stderr",
     "output_type": "stream",
     "text": [
      "                                                                        \r"
     ]
    },
    {
     "name": "stdout",
     "output_type": "stream",
     "text": [
      "Epoch [2/20] - Train classification Loss: 1.6524, Train iou Loss: 0.5244, Accuracy: 0.3905, IoU: 0.4936\n",
      "Epoch [2/20] - Val classification Loss: 1.4179, Val iou Loss: 0.5450, Accuracy: 0.4558, IoU: 0.3987\n"
     ]
    },
    {
     "name": "stderr",
     "output_type": "stream",
     "text": [
      "                                                                        \r"
     ]
    },
    {
     "name": "stdout",
     "output_type": "stream",
     "text": [
      "Epoch [3/20] - Train classification Loss: 1.2753, Train iou Loss: 0.4450, Accuracy: 0.5311, IoU: 0.5656\n",
      "Epoch [3/20] - Val classification Loss: 1.0328, Val iou Loss: 0.4195, Accuracy: 0.6367, IoU: 0.5828\n"
     ]
    },
    {
     "name": "stderr",
     "output_type": "stream",
     "text": [
      "                                                                        \r"
     ]
    },
    {
     "name": "stdout",
     "output_type": "stream",
     "text": [
      "Epoch [4/20] - Train classification Loss: 0.9028, Train iou Loss: 0.4231, Accuracy: 0.6838, IoU: 0.5877\n",
      "Epoch [4/20] - Val classification Loss: 0.7441, Val iou Loss: 0.4569, Accuracy: 0.7440, IoU: 0.4815\n"
     ]
    },
    {
     "name": "stderr",
     "output_type": "stream",
     "text": [
      "                                                                        \r"
     ]
    },
    {
     "name": "stdout",
     "output_type": "stream",
     "text": [
      "Epoch [5/20] - Train classification Loss: 0.6530, Train iou Loss: 0.3956, Accuracy: 0.7862, IoU: 0.6130\n",
      "Epoch [5/20] - Val classification Loss: 0.5670, Val iou Loss: 0.3514, Accuracy: 0.8189, IoU: 0.6627\n"
     ]
    },
    {
     "name": "stderr",
     "output_type": "stream",
     "text": [
      "                                                                        \r"
     ]
    },
    {
     "name": "stdout",
     "output_type": "stream",
     "text": [
      "Epoch [6/20] - Train classification Loss: 0.4801, Train iou Loss: 0.3765, Accuracy: 0.8486, IoU: 0.6348\n",
      "Epoch [6/20] - Val classification Loss: 1.4154, Val iou Loss: 0.4159, Accuracy: 0.5622, IoU: 0.5977\n"
     ]
    },
    {
     "name": "stderr",
     "output_type": "stream",
     "text": [
      "                                                                        \r"
     ]
    },
    {
     "name": "stdout",
     "output_type": "stream",
     "text": [
      "Epoch [7/20] - Train classification Loss: 0.3423, Train iou Loss: 0.3425, Accuracy: 0.8966, IoU: 0.6696\n",
      "Epoch [7/20] - Val classification Loss: 0.2971, Val iou Loss: 0.3407, Accuracy: 0.9086, IoU: 0.6876\n"
     ]
    },
    {
     "name": "stderr",
     "output_type": "stream",
     "text": [
      "                                                                        \r"
     ]
    },
    {
     "name": "stdout",
     "output_type": "stream",
     "text": [
      "Epoch [8/20] - Train classification Loss: 0.2480, Train iou Loss: 0.3356, Accuracy: 0.9278, IoU: 0.6771\n",
      "Epoch [8/20] - Val classification Loss: 0.2109, Val iou Loss: 0.3812, Accuracy: 0.9432, IoU: 0.6681\n"
     ]
    },
    {
     "name": "stderr",
     "output_type": "stream",
     "text": [
      "                                                                        \r"
     ]
    },
    {
     "name": "stdout",
     "output_type": "stream",
     "text": [
      "Epoch [9/20] - Train classification Loss: 0.1934, Train iou Loss: 0.3099, Accuracy: 0.9451, IoU: 0.6979\n",
      "Epoch [9/20] - Val classification Loss: 0.1872, Val iou Loss: 0.3285, Accuracy: 0.9515, IoU: 0.6982\n"
     ]
    },
    {
     "name": "stderr",
     "output_type": "stream",
     "text": [
      "                                                                         \r"
     ]
    },
    {
     "name": "stdout",
     "output_type": "stream",
     "text": [
      "Epoch [10/20] - Train classification Loss: 0.1784, Train iou Loss: 0.3016, Accuracy: 0.9484, IoU: 0.7100\n",
      "Epoch [10/20] - Val classification Loss: 0.2094, Val iou Loss: 0.2873, Accuracy: 0.9339, IoU: 0.7231\n"
     ]
    },
    {
     "name": "stderr",
     "output_type": "stream",
     "text": [
      "                                                                         \r"
     ]
    },
    {
     "name": "stdout",
     "output_type": "stream",
     "text": [
      "Epoch [11/20] - Train classification Loss: 0.1546, Train iou Loss: 0.2881, Accuracy: 0.9552, IoU: 0.7264\n",
      "Epoch [11/20] - Val classification Loss: 0.1142, Val iou Loss: 0.2645, Accuracy: 0.9690, IoU: 0.7492\n"
     ]
    },
    {
     "name": "stderr",
     "output_type": "stream",
     "text": [
      "                                                                         \r"
     ]
    },
    {
     "name": "stdout",
     "output_type": "stream",
     "text": [
      "Epoch [12/20] - Train classification Loss: 0.1328, Train iou Loss: 0.2728, Accuracy: 0.9623, IoU: 0.7411\n",
      "Epoch [12/20] - Val classification Loss: 0.0929, Val iou Loss: 0.2574, Accuracy: 0.9751, IoU: 0.7415\n"
     ]
    },
    {
     "name": "stderr",
     "output_type": "stream",
     "text": [
      "                                                                         \r"
     ]
    },
    {
     "name": "stdout",
     "output_type": "stream",
     "text": [
      "Epoch [13/20] - Train classification Loss: 0.1307, Train iou Loss: 0.2637, Accuracy: 0.9621, IoU: 0.7502\n",
      "Epoch [13/20] - Val classification Loss: 0.1585, Val iou Loss: 0.4282, Accuracy: 0.9519, IoU: 0.5873\n"
     ]
    },
    {
     "name": "stderr",
     "output_type": "stream",
     "text": [
      "                                                                         \r"
     ]
    },
    {
     "name": "stdout",
     "output_type": "stream",
     "text": [
      "Epoch [14/20] - Train classification Loss: 0.1154, Train iou Loss: 0.2610, Accuracy: 0.9628, IoU: 0.7528\n",
      "Epoch [14/20] - Val classification Loss: 0.1640, Val iou Loss: 0.2555, Accuracy: 0.9516, IoU: 0.7701\n"
     ]
    },
    {
     "name": "stderr",
     "output_type": "stream",
     "text": [
      "                                                                         \r"
     ]
    },
    {
     "name": "stdout",
     "output_type": "stream",
     "text": [
      "Epoch [15/20] - Train classification Loss: 0.1077, Train iou Loss: 0.2531, Accuracy: 0.9682, IoU: 0.7607\n",
      "Epoch [15/20] - Val classification Loss: 0.0824, Val iou Loss: 0.2647, Accuracy: 0.9747, IoU: 0.7538\n"
     ]
    },
    {
     "name": "stderr",
     "output_type": "stream",
     "text": [
      "                                                                         \r"
     ]
    },
    {
     "name": "stdout",
     "output_type": "stream",
     "text": [
      "Epoch [16/20] - Train classification Loss: 0.1024, Train iou Loss: 0.2417, Accuracy: 0.9702, IoU: 0.7690\n",
      "Epoch [16/20] - Val classification Loss: 0.3050, Val iou Loss: 0.9735, Accuracy: 0.8963, IoU: 0.2157\n"
     ]
    },
    {
     "name": "stderr",
     "output_type": "stream",
     "text": [
      "                                                                         \r"
     ]
    },
    {
     "name": "stdout",
     "output_type": "stream",
     "text": [
      "Epoch [17/20] - Train classification Loss: 0.0875, Train iou Loss: 0.2354, Accuracy: 0.9748, IoU: 0.7765\n",
      "Epoch [17/20] - Val classification Loss: 0.1241, Val iou Loss: 0.2167, Accuracy: 0.9625, IoU: 0.8007\n"
     ]
    },
    {
     "name": "stderr",
     "output_type": "stream",
     "text": [
      "                                                                         \r"
     ]
    },
    {
     "name": "stdout",
     "output_type": "stream",
     "text": [
      "Epoch [18/20] - Train classification Loss: 0.0978, Train iou Loss: 0.2319, Accuracy: 0.9726, IoU: 0.7810\n",
      "Epoch [18/20] - Val classification Loss: 0.0653, Val iou Loss: 0.2327, Accuracy: 0.9785, IoU: 0.7852\n"
     ]
    },
    {
     "name": "stderr",
     "output_type": "stream",
     "text": [
      "                                                                         \r"
     ]
    },
    {
     "name": "stdout",
     "output_type": "stream",
     "text": [
      "Epoch [19/20] - Train classification Loss: 0.0850, Train iou Loss: 0.2222, Accuracy: 0.9753, IoU: 0.7867\n",
      "Epoch [19/20] - Val classification Loss: 0.0862, Val iou Loss: 0.2369, Accuracy: 0.9775, IoU: 0.7713\n"
     ]
    },
    {
     "name": "stderr",
     "output_type": "stream",
     "text": [
      "                                                                         \r"
     ]
    },
    {
     "name": "stdout",
     "output_type": "stream",
     "text": [
      "Epoch [20/20] - Train classification Loss: 0.0854, Train iou Loss: 0.2256, Accuracy: 0.9745, IoU: 0.7908\n",
      "Epoch [20/20] - Val classification Loss: 0.0969, Val iou Loss: 0.2143, Accuracy: 0.9709, IoU: 0.8054\n"
     ]
    }
   ],
   "source": [
    "# CE + IOU\n",
    "model = DetectionModel(num_classes=10).to('cuda')\n",
    "loss_function = CombinedLoss(num_classes=10,use_focal=False)\n",
    "optimizer = torch.optim.Adam(model.parameters(), lr=0.001)\n",
    "\n",
    "# Assuming the train_loader and val_loader are properly defined\n",
    "train_and_validate(model, train_dataloader, val_dataloader, optimizer, loss_function, epochs=20, visualize_after_train=True, log_dir='detection_logs_VGG/VGG16_CE_IOU')\n"
   ]
  },
  {
   "cell_type": "code",
   "execution_count": 4,
   "id": "48097127-d7e5-4d8d-8df8-2c5d7855ab84",
   "metadata": {},
   "outputs": [
    {
     "name": "stderr",
     "output_type": "stream",
     "text": [
      "Training Epoch 1/20:   0%|          | 0/313 [00:00<?, ?it/s]/opt/conda/lib/python3.10/site-packages/torch/nn/modules/conv.py:456: UserWarning: Applied workaround for CuDNN issue, install nvrtc.so (Triggered internally at ../aten/src/ATen/native/cudnn/Conv_v8.cpp:80.)\n",
      "  return F.conv2d(input, weight, bias, self.stride,\n",
      "                                                                        \r"
     ]
    },
    {
     "name": "stdout",
     "output_type": "stream",
     "text": [
      "Epoch [1/20] - Train classification Loss: 0.6582, Train iou Loss: 0.6247, Accuracy: 0.1122, IoU: 0.3687\n",
      "Epoch [1/20] - Val classification Loss: 0.4808, Val iou Loss: 0.3951, Accuracy: 0.1237, IoU: 0.6161\n"
     ]
    },
    {
     "name": "stderr",
     "output_type": "stream",
     "text": [
      "                                                                        \r"
     ]
    },
    {
     "name": "stdout",
     "output_type": "stream",
     "text": [
      "Epoch [2/20] - Train classification Loss: 0.4900, Train iou Loss: 0.4253, Accuracy: 0.1327, IoU: 0.5755\n",
      "Epoch [2/20] - Val classification Loss: 0.4623, Val iou Loss: 0.3673, Accuracy: 0.1258, IoU: 0.6416\n"
     ]
    },
    {
     "name": "stderr",
     "output_type": "stream",
     "text": [
      "                                                                        \r"
     ]
    },
    {
     "name": "stdout",
     "output_type": "stream",
     "text": [
      "Epoch [3/20] - Train classification Loss: 0.4585, Train iou Loss: 0.3399, Accuracy: 0.1513, IoU: 0.6819\n",
      "Epoch [3/20] - Val classification Loss: 0.4612, Val iou Loss: 0.3057, Accuracy: 0.1652, IoU: 0.7083\n"
     ]
    },
    {
     "name": "stderr",
     "output_type": "stream",
     "text": [
      "                                                                        \r"
     ]
    },
    {
     "name": "stdout",
     "output_type": "stream",
     "text": [
      "Epoch [4/20] - Train classification Loss: 0.4281, Train iou Loss: 0.2955, Accuracy: 0.2002, IoU: 0.7190\n",
      "Epoch [4/20] - Val classification Loss: 0.4331, Val iou Loss: 0.3275, Accuracy: 0.1579, IoU: 0.6477\n"
     ]
    },
    {
     "name": "stderr",
     "output_type": "stream",
     "text": [
      "                                                                        \r"
     ]
    },
    {
     "name": "stdout",
     "output_type": "stream",
     "text": [
      "Epoch [5/20] - Train classification Loss: 0.3305, Train iou Loss: 0.2778, Accuracy: 0.3167, IoU: 0.7389\n",
      "Epoch [5/20] - Val classification Loss: 0.2732, Val iou Loss: 0.2685, Accuracy: 0.4042, IoU: 0.7516\n"
     ]
    },
    {
     "name": "stderr",
     "output_type": "stream",
     "text": [
      "                                                                        \r"
     ]
    },
    {
     "name": "stdout",
     "output_type": "stream",
     "text": [
      "Epoch [6/20] - Train classification Loss: 0.2462, Train iou Loss: 0.2719, Accuracy: 0.4521, IoU: 0.7524\n",
      "Epoch [6/20] - Val classification Loss: 0.2339, Val iou Loss: 0.2454, Accuracy: 0.4342, IoU: 0.7565\n"
     ]
    },
    {
     "name": "stderr",
     "output_type": "stream",
     "text": [
      "                                                                        \r"
     ]
    },
    {
     "name": "stdout",
     "output_type": "stream",
     "text": [
      "Epoch [7/20] - Train classification Loss: 0.1696, Train iou Loss: 0.2614, Accuracy: 0.5963, IoU: 0.7583\n",
      "Epoch [7/20] - Val classification Loss: 0.1336, Val iou Loss: 0.2484, Accuracy: 0.6590, IoU: 0.7766\n"
     ]
    },
    {
     "name": "stderr",
     "output_type": "stream",
     "text": [
      "                                                                        \r"
     ]
    },
    {
     "name": "stdout",
     "output_type": "stream",
     "text": [
      "Epoch [8/20] - Train classification Loss: 0.1210, Train iou Loss: 0.2429, Accuracy: 0.6851, IoU: 0.7815\n",
      "Epoch [8/20] - Val classification Loss: 0.1023, Val iou Loss: 0.2208, Accuracy: 0.7368, IoU: 0.8087\n"
     ]
    },
    {
     "name": "stderr",
     "output_type": "stream",
     "text": [
      "                                                                        \r"
     ]
    },
    {
     "name": "stdout",
     "output_type": "stream",
     "text": [
      "Epoch [9/20] - Train classification Loss: 0.0983, Train iou Loss: 0.2462, Accuracy: 0.7395, IoU: 0.7816\n",
      "Epoch [9/20] - Val classification Loss: 0.1199, Val iou Loss: 0.2571, Accuracy: 0.7049, IoU: 0.7969\n"
     ]
    },
    {
     "name": "stderr",
     "output_type": "stream",
     "text": [
      "                                                                         \r"
     ]
    },
    {
     "name": "stdout",
     "output_type": "stream",
     "text": [
      "Epoch [10/20] - Train classification Loss: 0.0741, Train iou Loss: 0.2226, Accuracy: 0.8072, IoU: 0.8000\n",
      "Epoch [10/20] - Val classification Loss: 0.1345, Val iou Loss: 0.2059, Accuracy: 0.6590, IoU: 0.8178\n"
     ]
    },
    {
     "name": "stderr",
     "output_type": "stream",
     "text": [
      "                                                                         \r"
     ]
    },
    {
     "name": "stdout",
     "output_type": "stream",
     "text": [
      "Epoch [11/20] - Train classification Loss: 0.0637, Train iou Loss: 0.2158, Accuracy: 0.8431, IoU: 0.8101\n",
      "Epoch [11/20] - Val classification Loss: 0.0890, Val iou Loss: 0.2207, Accuracy: 0.7536, IoU: 0.7814\n"
     ]
    },
    {
     "name": "stderr",
     "output_type": "stream",
     "text": [
      "                                                                         \r"
     ]
    },
    {
     "name": "stdout",
     "output_type": "stream",
     "text": [
      "Epoch [12/20] - Train classification Loss: 0.0533, Train iou Loss: 0.2083, Accuracy: 0.8663, IoU: 0.8202\n",
      "Epoch [12/20] - Val classification Loss: 0.1692, Val iou Loss: 0.5268, Accuracy: 0.6271, IoU: 0.4441\n"
     ]
    },
    {
     "name": "stderr",
     "output_type": "stream",
     "text": [
      "                                                                         \r"
     ]
    },
    {
     "name": "stdout",
     "output_type": "stream",
     "text": [
      "Epoch [13/20] - Train classification Loss: 0.0488, Train iou Loss: 0.2020, Accuracy: 0.8769, IoU: 0.8250\n",
      "Epoch [13/20] - Val classification Loss: 0.1828, Val iou Loss: 0.4189, Accuracy: 0.5655, IoU: 0.5696\n"
     ]
    },
    {
     "name": "stderr",
     "output_type": "stream",
     "text": [
      "                                                                         \r"
     ]
    },
    {
     "name": "stdout",
     "output_type": "stream",
     "text": [
      "Epoch [14/20] - Train classification Loss: 0.0432, Train iou Loss: 0.2016, Accuracy: 0.8926, IoU: 0.8290\n",
      "Epoch [14/20] - Val classification Loss: 1.6002, Val iou Loss: 0.9999, Accuracy: 0.2278, IoU: 0.1800\n"
     ]
    },
    {
     "name": "stderr",
     "output_type": "stream",
     "text": [
      "                                                                         \r"
     ]
    },
    {
     "name": "stdout",
     "output_type": "stream",
     "text": [
      "Epoch [15/20] - Train classification Loss: 0.0412, Train iou Loss: 0.1924, Accuracy: 0.8956, IoU: 0.8350\n",
      "Epoch [15/20] - Val classification Loss: 0.1693, Val iou Loss: 0.2037, Accuracy: 0.6665, IoU: 0.8251\n"
     ]
    },
    {
     "name": "stderr",
     "output_type": "stream",
     "text": [
      "                                                                         \r"
     ]
    },
    {
     "name": "stdout",
     "output_type": "stream",
     "text": [
      "Epoch [16/20] - Train classification Loss: 0.0347, Train iou Loss: 0.1909, Accuracy: 0.9134, IoU: 0.8402\n",
      "Epoch [16/20] - Val classification Loss: 0.0355, Val iou Loss: 0.1836, Accuracy: 0.9066, IoU: 0.8556\n"
     ]
    },
    {
     "name": "stderr",
     "output_type": "stream",
     "text": [
      "                                                                         \r"
     ]
    },
    {
     "name": "stdout",
     "output_type": "stream",
     "text": [
      "Epoch [17/20] - Train classification Loss: 0.0350, Train iou Loss: 0.1866, Accuracy: 0.9133, IoU: 0.8394\n",
      "Epoch [17/20] - Val classification Loss: 0.3099, Val iou Loss: 0.2628, Accuracy: 0.5560, IoU: 0.7398\n"
     ]
    },
    {
     "name": "stderr",
     "output_type": "stream",
     "text": [
      "                                                                         \r"
     ]
    },
    {
     "name": "stdout",
     "output_type": "stream",
     "text": [
      "Epoch [18/20] - Train classification Loss: 0.0334, Train iou Loss: 0.1912, Accuracy: 0.9164, IoU: 0.8390\n",
      "Epoch [18/20] - Val classification Loss: 0.0930, Val iou Loss: 0.3190, Accuracy: 0.7619, IoU: 0.6927\n"
     ]
    },
    {
     "name": "stderr",
     "output_type": "stream",
     "text": [
      "                                                                         \r"
     ]
    },
    {
     "name": "stdout",
     "output_type": "stream",
     "text": [
      "Epoch [19/20] - Train classification Loss: 0.0292, Train iou Loss: 0.1810, Accuracy: 0.9251, IoU: 0.8490\n",
      "Epoch [19/20] - Val classification Loss: 0.0266, Val iou Loss: 0.1622, Accuracy: 0.9339, IoU: 0.8762\n"
     ]
    },
    {
     "name": "stderr",
     "output_type": "stream",
     "text": [
      "                                                                         \r"
     ]
    },
    {
     "name": "stdout",
     "output_type": "stream",
     "text": [
      "Epoch [20/20] - Train classification Loss: 0.0351, Train iou Loss: 0.1834, Accuracy: 0.9161, IoU: 0.8426\n",
      "Epoch [20/20] - Val classification Loss: 0.1428, Val iou Loss: 0.2123, Accuracy: 0.6614, IoU: 0.8143\n"
     ]
    }
   ],
   "source": [
    "# Focal loss + IOU\n",
    "model = DetectionModel(num_classes=10).to('cuda')\n",
    "loss_function = CombinedLoss(num_classes=10,use_focal=True)\n",
    "optimizer = torch.optim.Adam(model.parameters(), lr=0.001)\n",
    "# Assuming the train_loader and val_loader are properly defined\n",
    "train_and_validate(model, train_dataloader, val_dataloader, optimizer, loss_function, epochs=20, visualize_after_train=True, log_dir='detection_logs_VGG/VGG_focal_IOU')\n"
   ]
  },
  {
   "cell_type": "code",
   "execution_count": 5,
   "id": "cd123855-b1da-485c-bcc5-858648652d38",
   "metadata": {},
   "outputs": [
    {
     "name": "stdout",
     "output_type": "stream",
     "text": [
      "detection_logs_VGG/\n",
      "detection_logs_VGG/VGG16_CE_Smoothl1/\n",
      "detection_logs_VGG/VGG16_CE_Smoothl1/events.out.tfevents.1716424419.jupyter-ec23457.43834.0\n",
      "detection_logs_VGG/VGG16_CE_Smoothl1/events.out.tfevents.1714918091.jupyter-ec23457.150879.0\n",
      "detection_logs_VGG/VGG16_CE_Smoothl1/events.out.tfevents.1716422369.jupyter-ec23457.3761.0\n",
      "detection_logs_VGG/VGG16_CE_Smoothl1/events.out.tfevents.1716422214.jupyter-ec23457.2683.1\n",
      "detection_logs_VGG/VGG16_CE_Smoothl1/events.out.tfevents.1716422180.jupyter-ec23457.2683.0\n",
      "detection_logs_VGG/VGG16_CE_Smoothl1/events.out.tfevents.1716423816.jupyter-ec23457.35145.0\n",
      "detection_logs_VGG/VGG16_CE_Smoothl1/visualizations/\n",
      "detection_logs_VGG/VGG16_CE_Smoothl1/visualizations/epoch_7_positive_visualizations.png\n",
      "detection_logs_VGG/VGG16_CE_Smoothl1/visualizations/epoch_1_positive_visualizations.png\n",
      "detection_logs_VGG/VGG16_CE_Smoothl1/visualizations/epoch_14_positive_visualizations.png\n",
      "detection_logs_VGG/VGG16_CE_Smoothl1/visualizations/epoch_7_negative_visualizations.png\n",
      "detection_logs_VGG/VGG16_CE_Smoothl1/visualizations/epoch_11_negative_visualizations.png\n",
      "detection_logs_VGG/VGG16_CE_Smoothl1/visualizations/epoch_10_positive_visualizations.png\n",
      "detection_logs_VGG/VGG16_CE_Smoothl1/visualizations/epoch_3_positive_visualizations.png\n",
      "detection_logs_VGG/VGG16_CE_Smoothl1/visualizations/epoch_5_positive_visualizations.png\n",
      "detection_logs_VGG/VGG16_CE_Smoothl1/visualizations/epoch_2_positive_visualizations.png\n",
      "detection_logs_VGG/VGG16_CE_Smoothl1/visualizations/epoch_2_negative_visualizations.png\n",
      "detection_logs_VGG/VGG16_CE_Smoothl1/visualizations/epoch_20_positive_visualizations.png\n",
      "detection_logs_VGG/VGG16_CE_Smoothl1/visualizations/epoch_18_positive_visualizations.png\n",
      "detection_logs_VGG/VGG16_CE_Smoothl1/visualizations/epoch_10_negative_visualizations.png\n",
      "detection_logs_VGG/VGG16_CE_Smoothl1/visualizations/epoch_15_negative_visualizations.png\n",
      "detection_logs_VGG/VGG16_CE_Smoothl1/visualizations/epoch_19_positive_visualizations.png\n",
      "detection_logs_VGG/VGG16_CE_Smoothl1/visualizations/epoch_19_negative_visualizations.png\n",
      "detection_logs_VGG/VGG16_CE_Smoothl1/visualizations/epoch_6_negative_visualizations.png\n",
      "detection_logs_VGG/VGG16_CE_Smoothl1/visualizations/epoch_13_positive_visualizations.png\n",
      "detection_logs_VGG/VGG16_CE_Smoothl1/visualizations/epoch_16_positive_visualizations.png\n",
      "detection_logs_VGG/VGG16_CE_Smoothl1/visualizations/epoch_11_positive_visualizations.png\n",
      "detection_logs_VGG/VGG16_CE_Smoothl1/visualizations/epoch_5_negative_visualizations.png\n",
      "detection_logs_VGG/VGG16_CE_Smoothl1/visualizations/epoch_17_positive_visualizations.png\n",
      "detection_logs_VGG/VGG16_CE_Smoothl1/visualizations/epoch_4_negative_visualizations.png\n",
      "detection_logs_VGG/VGG16_CE_Smoothl1/visualizations/epoch_3_negative_visualizations.png\n",
      "detection_logs_VGG/VGG16_CE_Smoothl1/visualizations/.ipynb_checkpoints/\n",
      "detection_logs_VGG/VGG16_CE_Smoothl1/visualizations/.ipynb_checkpoints/epoch_20_negative_visualizations-checkpoint.png\n",
      "detection_logs_VGG/VGG16_CE_Smoothl1/visualizations/.ipynb_checkpoints/epoch_1_negative_visualizations-checkpoint.png\n",
      "detection_logs_VGG/VGG16_CE_Smoothl1/visualizations/.ipynb_checkpoints/epoch_20_positive_visualizations-checkpoint.png\n",
      "detection_logs_VGG/VGG16_CE_Smoothl1/visualizations/epoch_12_positive_visualizations.png\n",
      "detection_logs_VGG/VGG16_CE_Smoothl1/visualizations/epoch_12_negative_visualizations.png\n",
      "detection_logs_VGG/VGG16_CE_Smoothl1/visualizations/epoch_9_negative_visualizations.png\n",
      "detection_logs_VGG/VGG16_CE_Smoothl1/visualizations/epoch_15_positive_visualizations.png\n",
      "detection_logs_VGG/VGG16_CE_Smoothl1/visualizations/epoch_14_negative_visualizations.png\n",
      "detection_logs_VGG/VGG16_CE_Smoothl1/visualizations/epoch_4_positive_visualizations.png\n",
      "detection_logs_VGG/VGG16_CE_Smoothl1/visualizations/epoch_8_negative_visualizations.png\n",
      "detection_logs_VGG/VGG16_CE_Smoothl1/visualizations/epoch_13_negative_visualizations.png\n",
      "detection_logs_VGG/VGG16_CE_Smoothl1/visualizations/epoch_18_negative_visualizations.png\n",
      "detection_logs_VGG/VGG16_CE_Smoothl1/visualizations/epoch_1_negative_visualizations.png\n",
      "detection_logs_VGG/VGG16_CE_Smoothl1/visualizations/epoch_8_positive_visualizations.png\n",
      "detection_logs_VGG/VGG16_CE_Smoothl1/visualizations/epoch_6_positive_visualizations.png\n",
      "detection_logs_VGG/VGG16_CE_Smoothl1/visualizations/epoch_17_negative_visualizations.png\n",
      "detection_logs_VGG/VGG16_CE_Smoothl1/visualizations/epoch_9_positive_visualizations.png\n",
      "detection_logs_VGG/VGG16_CE_Smoothl1/visualizations/epoch_20_negative_visualizations.png\n",
      "detection_logs_VGG/VGG16_CE_Smoothl1/visualizations/epoch_16_negative_visualizations.png\n",
      "detection_logs_VGG/VGG_focal_IOU/\n",
      "detection_logs_VGG/VGG_focal_IOU/events.out.tfevents.1716477158.jupyter-ec23457.283.0\n",
      "detection_logs_VGG/VGG_focal_IOU/events.out.tfevents.1716425761.jupyter-ec23457.43834.2\n",
      "detection_logs_VGG/VGG_focal_IOU/events.out.tfevents.1714919898.jupyter-ec23457.150879.2\n",
      "detection_logs_VGG/VGG_focal_IOU/visualizations/\n",
      "detection_logs_VGG/VGG_focal_IOU/visualizations/epoch_7_positive_visualizations.png\n",
      "detection_logs_VGG/VGG_focal_IOU/visualizations/epoch_1_positive_visualizations.png\n",
      "detection_logs_VGG/VGG_focal_IOU/visualizations/epoch_14_positive_visualizations.png\n",
      "detection_logs_VGG/VGG_focal_IOU/visualizations/epoch_7_negative_visualizations.png\n",
      "detection_logs_VGG/VGG_focal_IOU/visualizations/epoch_11_negative_visualizations.png\n",
      "detection_logs_VGG/VGG_focal_IOU/visualizations/epoch_10_positive_visualizations.png\n",
      "detection_logs_VGG/VGG_focal_IOU/visualizations/epoch_3_positive_visualizations.png\n",
      "detection_logs_VGG/VGG_focal_IOU/visualizations/epoch_5_positive_visualizations.png\n",
      "detection_logs_VGG/VGG_focal_IOU/visualizations/epoch_2_positive_visualizations.png\n",
      "detection_logs_VGG/VGG_focal_IOU/visualizations/epoch_2_negative_visualizations.png\n",
      "detection_logs_VGG/VGG_focal_IOU/visualizations/epoch_20_positive_visualizations.png\n",
      "detection_logs_VGG/VGG_focal_IOU/visualizations/epoch_18_positive_visualizations.png\n",
      "detection_logs_VGG/VGG_focal_IOU/visualizations/epoch_10_negative_visualizations.png\n",
      "detection_logs_VGG/VGG_focal_IOU/visualizations/epoch_15_negative_visualizations.png\n",
      "detection_logs_VGG/VGG_focal_IOU/visualizations/epoch_19_positive_visualizations.png\n",
      "detection_logs_VGG/VGG_focal_IOU/visualizations/epoch_19_negative_visualizations.png\n",
      "detection_logs_VGG/VGG_focal_IOU/visualizations/epoch_6_negative_visualizations.png\n",
      "detection_logs_VGG/VGG_focal_IOU/visualizations/epoch_13_positive_visualizations.png\n",
      "detection_logs_VGG/VGG_focal_IOU/visualizations/epoch_16_positive_visualizations.png\n",
      "detection_logs_VGG/VGG_focal_IOU/visualizations/epoch_11_positive_visualizations.png\n",
      "detection_logs_VGG/VGG_focal_IOU/visualizations/epoch_5_negative_visualizations.png\n",
      "detection_logs_VGG/VGG_focal_IOU/visualizations/epoch_17_positive_visualizations.png\n",
      "detection_logs_VGG/VGG_focal_IOU/visualizations/epoch_4_negative_visualizations.png\n",
      "detection_logs_VGG/VGG_focal_IOU/visualizations/epoch_3_negative_visualizations.png\n",
      "detection_logs_VGG/VGG_focal_IOU/visualizations/epoch_12_positive_visualizations.png\n",
      "detection_logs_VGG/VGG_focal_IOU/visualizations/epoch_12_negative_visualizations.png\n",
      "detection_logs_VGG/VGG_focal_IOU/visualizations/epoch_9_negative_visualizations.png\n",
      "detection_logs_VGG/VGG_focal_IOU/visualizations/epoch_15_positive_visualizations.png\n",
      "detection_logs_VGG/VGG_focal_IOU/visualizations/epoch_14_negative_visualizations.png\n",
      "detection_logs_VGG/VGG_focal_IOU/visualizations/epoch_4_positive_visualizations.png\n",
      "detection_logs_VGG/VGG_focal_IOU/visualizations/epoch_8_negative_visualizations.png\n",
      "detection_logs_VGG/VGG_focal_IOU/visualizations/epoch_13_negative_visualizations.png\n",
      "detection_logs_VGG/VGG_focal_IOU/visualizations/epoch_18_negative_visualizations.png\n",
      "detection_logs_VGG/VGG_focal_IOU/visualizations/epoch_1_negative_visualizations.png\n",
      "detection_logs_VGG/VGG_focal_IOU/visualizations/epoch_8_positive_visualizations.png\n",
      "detection_logs_VGG/VGG_focal_IOU/visualizations/epoch_6_positive_visualizations.png\n",
      "detection_logs_VGG/VGG_focal_IOU/visualizations/epoch_17_negative_visualizations.png\n",
      "detection_logs_VGG/VGG_focal_IOU/visualizations/epoch_9_positive_visualizations.png\n",
      "detection_logs_VGG/VGG_focal_IOU/visualizations/epoch_20_negative_visualizations.png\n",
      "detection_logs_VGG/VGG_focal_IOU/visualizations/epoch_16_negative_visualizations.png\n",
      "detection_logs_VGG/VGG16_CE_IOU/\n",
      "detection_logs_VGG/VGG16_CE_IOU/events.out.tfevents.1716425084.jupyter-ec23457.43834.1\n",
      "detection_logs_VGG/VGG16_CE_IOU/events.out.tfevents.1714918978.jupyter-ec23457.150879.1\n",
      "detection_logs_VGG/VGG16_CE_IOU/visualizations/\n",
      "detection_logs_VGG/VGG16_CE_IOU/visualizations/epoch_7_positive_visualizations.png\n",
      "detection_logs_VGG/VGG16_CE_IOU/visualizations/epoch_1_positive_visualizations.png\n",
      "detection_logs_VGG/VGG16_CE_IOU/visualizations/epoch_14_positive_visualizations.png\n",
      "detection_logs_VGG/VGG16_CE_IOU/visualizations/epoch_7_negative_visualizations.png\n",
      "detection_logs_VGG/VGG16_CE_IOU/visualizations/epoch_11_negative_visualizations.png\n",
      "detection_logs_VGG/VGG16_CE_IOU/visualizations/epoch_10_positive_visualizations.png\n",
      "detection_logs_VGG/VGG16_CE_IOU/visualizations/epoch_3_positive_visualizations.png\n",
      "detection_logs_VGG/VGG16_CE_IOU/visualizations/epoch_5_positive_visualizations.png\n",
      "detection_logs_VGG/VGG16_CE_IOU/visualizations/epoch_2_positive_visualizations.png\n",
      "detection_logs_VGG/VGG16_CE_IOU/visualizations/epoch_2_negative_visualizations.png\n",
      "detection_logs_VGG/VGG16_CE_IOU/visualizations/epoch_20_positive_visualizations.png\n",
      "detection_logs_VGG/VGG16_CE_IOU/visualizations/epoch_18_positive_visualizations.png\n",
      "detection_logs_VGG/VGG16_CE_IOU/visualizations/epoch_10_negative_visualizations.png\n",
      "detection_logs_VGG/VGG16_CE_IOU/visualizations/epoch_15_negative_visualizations.png\n",
      "detection_logs_VGG/VGG16_CE_IOU/visualizations/epoch_19_positive_visualizations.png\n",
      "detection_logs_VGG/VGG16_CE_IOU/visualizations/epoch_19_negative_visualizations.png\n",
      "detection_logs_VGG/VGG16_CE_IOU/visualizations/epoch_6_negative_visualizations.png\n",
      "detection_logs_VGG/VGG16_CE_IOU/visualizations/epoch_13_positive_visualizations.png\n",
      "detection_logs_VGG/VGG16_CE_IOU/visualizations/epoch_16_positive_visualizations.png\n",
      "detection_logs_VGG/VGG16_CE_IOU/visualizations/epoch_11_positive_visualizations.png\n",
      "detection_logs_VGG/VGG16_CE_IOU/visualizations/epoch_5_negative_visualizations.png\n",
      "detection_logs_VGG/VGG16_CE_IOU/visualizations/epoch_17_positive_visualizations.png\n",
      "detection_logs_VGG/VGG16_CE_IOU/visualizations/epoch_4_negative_visualizations.png\n",
      "detection_logs_VGG/VGG16_CE_IOU/visualizations/epoch_3_negative_visualizations.png\n",
      "detection_logs_VGG/VGG16_CE_IOU/visualizations/epoch_12_positive_visualizations.png\n",
      "detection_logs_VGG/VGG16_CE_IOU/visualizations/epoch_12_negative_visualizations.png\n",
      "detection_logs_VGG/VGG16_CE_IOU/visualizations/epoch_9_negative_visualizations.png\n",
      "detection_logs_VGG/VGG16_CE_IOU/visualizations/epoch_15_positive_visualizations.png\n",
      "detection_logs_VGG/VGG16_CE_IOU/visualizations/epoch_14_negative_visualizations.png\n",
      "detection_logs_VGG/VGG16_CE_IOU/visualizations/epoch_4_positive_visualizations.png\n",
      "detection_logs_VGG/VGG16_CE_IOU/visualizations/epoch_8_negative_visualizations.png\n",
      "detection_logs_VGG/VGG16_CE_IOU/visualizations/epoch_13_negative_visualizations.png\n",
      "detection_logs_VGG/VGG16_CE_IOU/visualizations/epoch_18_negative_visualizations.png\n",
      "detection_logs_VGG/VGG16_CE_IOU/visualizations/epoch_1_negative_visualizations.png\n",
      "detection_logs_VGG/VGG16_CE_IOU/visualizations/epoch_8_positive_visualizations.png\n",
      "detection_logs_VGG/VGG16_CE_IOU/visualizations/epoch_6_positive_visualizations.png\n",
      "detection_logs_VGG/VGG16_CE_IOU/visualizations/epoch_17_negative_visualizations.png\n",
      "detection_logs_VGG/VGG16_CE_IOU/visualizations/epoch_9_positive_visualizations.png\n",
      "detection_logs_VGG/VGG16_CE_IOU/visualizations/epoch_20_negative_visualizations.png\n",
      "detection_logs_VGG/VGG16_CE_IOU/visualizations/epoch_16_negative_visualizations.png\n"
     ]
    }
   ],
   "source": [
    "!tar -zcvf detection_logs_VGG.tar.gz detection_logs_VGG"
   ]
  },
  {
   "cell_type": "code",
   "execution_count": null,
   "id": "7f3e2c65-087f-45ee-9574-9ac02081446b",
   "metadata": {},
   "outputs": [],
   "source": []
  }
 ],
 "metadata": {
  "kernelspec": {
   "display_name": "Python 3 (ipykernel)",
   "language": "python",
   "name": "python3"
  },
  "language_info": {
   "codemirror_mode": {
    "name": "ipython",
    "version": 3
   },
   "file_extension": ".py",
   "mimetype": "text/x-python",
   "name": "python",
   "nbconvert_exporter": "python",
   "pygments_lexer": "ipython3",
   "version": "3.10.13"
  }
 },
 "nbformat": 4,
 "nbformat_minor": 5
}
